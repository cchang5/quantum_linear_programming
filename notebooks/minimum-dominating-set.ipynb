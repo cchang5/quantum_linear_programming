{
 "cells": [
  {
   "cell_type": "markdown",
   "metadata": {},
   "source": [
    "# Minimum Dominating Set Challenge"
   ]
  },
  {
   "cell_type": "markdown",
   "metadata": {},
   "source": [
    "## Setup"
   ]
  },
  {
   "cell_type": "code",
   "execution_count": 1,
   "metadata": {},
   "outputs": [
    {
     "ename": "ModuleNotFoundError",
     "evalue": "No module named 'bokeh'",
     "output_type": "error",
     "traceback": [
      "\u001b[0;31m---------------------------------------------------------------------------\u001b[0m",
      "\u001b[0;31mModuleNotFoundError\u001b[0m                       Traceback (most recent call last)",
      "\u001b[0;32m<ipython-input-1-779e95a0b745>\u001b[0m in \u001b[0;36m<module>\u001b[0;34m\u001b[0m\n\u001b[1;32m      9\u001b[0m \u001b[0;32mimport\u001b[0m \u001b[0mnetworkx\u001b[0m \u001b[0;32mas\u001b[0m \u001b[0mnx\u001b[0m\u001b[0;34m\u001b[0m\u001b[0;34m\u001b[0m\u001b[0m\n\u001b[1;32m     10\u001b[0m \u001b[0;34m\u001b[0m\u001b[0m\n\u001b[0;32m---> 11\u001b[0;31m \u001b[0;32mfrom\u001b[0m \u001b[0mbokeh\u001b[0m\u001b[0;34m.\u001b[0m\u001b[0mio\u001b[0m \u001b[0;32mimport\u001b[0m \u001b[0mshow\u001b[0m\u001b[0;34m,\u001b[0m \u001b[0moutput_notebook\u001b[0m\u001b[0;34m\u001b[0m\u001b[0;34m\u001b[0m\u001b[0m\n\u001b[0m\u001b[1;32m     12\u001b[0m \u001b[0;32mfrom\u001b[0m \u001b[0mbokeh\u001b[0m\u001b[0;34m.\u001b[0m\u001b[0mmodels\u001b[0m \u001b[0;32mimport\u001b[0m \u001b[0mPlot\u001b[0m\u001b[0;34m,\u001b[0m \u001b[0mRange1d\u001b[0m\u001b[0;34m,\u001b[0m \u001b[0mMultiLine\u001b[0m\u001b[0;34m,\u001b[0m \u001b[0mCircle\u001b[0m\u001b[0;34m,\u001b[0m \u001b[0mHoverTool\u001b[0m\u001b[0;34m\u001b[0m\u001b[0;34m\u001b[0m\u001b[0m\n\u001b[1;32m     13\u001b[0m \u001b[0;32mfrom\u001b[0m \u001b[0mbokeh\u001b[0m\u001b[0;34m.\u001b[0m\u001b[0mmodels\u001b[0m\u001b[0;34m.\u001b[0m\u001b[0mgraphs\u001b[0m \u001b[0;32mimport\u001b[0m \u001b[0mfrom_networkx\u001b[0m\u001b[0;34m\u001b[0m\u001b[0;34m\u001b[0m\u001b[0m\n",
      "\u001b[0;31mModuleNotFoundError\u001b[0m: No module named 'bokeh'"
     ]
    }
   ],
   "source": [
    "from typing import Set, Tuple, Optional, List\n",
    "\n",
    "from itertools import product\n",
    "\n",
    "import numpy as np\n",
    "from numpy import random as rand\n",
    "from scipy.sparse import dok_matrix, csr_matrix, bmat\n",
    "\n",
    "import networkx as nx\n",
    "\n",
    "from bokeh.io import show, output_notebook\n",
    "from bokeh.models import Plot, Range1d, MultiLine, Circle, HoverTool\n",
    "from bokeh.models.graphs import from_networkx\n",
    "from bokeh.palettes import Spectral4\n",
    "\n",
    "output_notebook()"
   ]
  },
  {
   "cell_type": "code",
   "execution_count": 2,
   "metadata": {},
   "outputs": [],
   "source": [
    "rand.seed(42)"
   ]
  },
  {
   "cell_type": "code",
   "execution_count": 3,
   "metadata": {},
   "outputs": [],
   "source": [
    "n_nodes = 5\n",
    "n_edges = 5\n",
    "\n",
    "n_edge_max = 3"
   ]
  },
  {
   "cell_type": "code",
   "execution_count": 4,
   "metadata": {},
   "outputs": [],
   "source": [
    "def generate_graph(n_nodes: int, n_edges: int, n_edge_max: int = 5) -> Set[Tuple[int]]:\n",
    "    \"\"\"Creates random edges for graph.\n",
    "    \n",
    "    Node labels are from 0 to n_nodes - 1 \n",
    "    \n",
    "    Arguments:\n",
    "        n_nodes: Number of nodes\n",
    "        n_edges: Number of edges\n",
    "        n_edge_max: Maximal number of edges for graph\n",
    "        \n",
    "    Todo:\n",
    "        What about connected / unconnected graphs?\n",
    "        Am I creating the right graph? \n",
    "        Think about ill input conditions.\n",
    "    \"\"\"\n",
    "    assert n_edge_max > 0\n",
    "    assert n_nodes * n_edge_max // 2 > n_edges\n",
    "\n",
    "    nodes = {n: 0 for n in range(n_nodes)}\n",
    "    edges = set()\n",
    "\n",
    "    while len(edges) < n_edges:\n",
    "        choices = [n for n, count in nodes.items() if count <= n_edge_max]\n",
    "        e1, e2 = (int(e) for e in rand.choice(choices, size=2, replace=False))\n",
    "        edge = (e2, e1) if e2 < e1 else (e1, e2)\n",
    "        if edge not in edges:\n",
    "            edges.add(edge)\n",
    "            nodes[e1] += 1\n",
    "            nodes[e2] += 2\n",
    "\n",
    "    return edges\n",
    "\n",
    "\n",
    "test_graph = generate_graph(n_nodes, n_edges, n_edge_max=n_edge_max)"
   ]
  },
  {
   "cell_type": "code",
   "execution_count": 5,
   "metadata": {
    "scrolled": false
   },
   "outputs": [
    {
     "data": {
      "text/html": [
       "\n",
       "\n",
       "\n",
       "\n",
       "\n",
       "\n",
       "  <div class=\"bk-root\" id=\"a535b238-b45c-4f15-8ebd-e69cf980ed92\" data-root-id=\"1004\"></div>\n"
      ]
     },
     "metadata": {},
     "output_type": "display_data"
    },
    {
     "data": {
      "application/javascript": [
       "(function(root) {\n",
       "  function embed_document(root) {\n",
       "    \n",
       "  var docs_json = {\"e2206162-110f-45a8-9d3d-48c4ca5b24ec\":{\"roots\":{\"references\":[{\"attributes\":{\"plot_height\":400,\"plot_width\":400,\"renderers\":[{\"id\":\"1009\",\"type\":\"GraphRenderer\"}],\"title\":{\"id\":\"1029\",\"type\":\"Title\"},\"toolbar\":{\"id\":\"1025\",\"type\":\"Toolbar\"},\"x_range\":{\"id\":\"1002\",\"type\":\"Range1d\"},\"x_scale\":{\"id\":\"1027\",\"type\":\"LinearScale\"},\"y_range\":{\"id\":\"1003\",\"type\":\"Range1d\"},\"y_scale\":{\"id\":\"1026\",\"type\":\"LinearScale\"}},\"id\":\"1004\",\"type\":\"Plot\"},{\"attributes\":{\"callback\":null,\"end\":1.1,\"start\":-1.1},\"id\":\"1002\",\"type\":\"Range1d\"},{\"attributes\":{\"source\":{\"id\":\"1015\",\"type\":\"ColumnDataSource\"}},\"id\":\"1017\",\"type\":\"CDSView\"},{\"attributes\":{},\"id\":\"1027\",\"type\":\"LinearScale\"},{\"attributes\":{\"active_drag\":\"auto\",\"active_inspect\":\"auto\",\"active_multi\":null,\"active_scroll\":\"auto\",\"active_tap\":\"auto\",\"tools\":[{\"id\":\"1024\",\"type\":\"HoverTool\"}]},\"id\":\"1025\",\"type\":\"Toolbar\"},{\"attributes\":{},\"id\":\"1041\",\"type\":\"Selection\"},{\"attributes\":{},\"id\":\"1034\",\"type\":\"NodesOnly\"},{\"attributes\":{\"text\":\"\"},\"id\":\"1029\",\"type\":\"Title\"},{\"attributes\":{\"callback\":null,\"end\":1.1,\"start\":-1.1},\"id\":\"1003\",\"type\":\"Range1d\"},{\"attributes\":{\"data_source\":{\"id\":\"1011\",\"type\":\"ColumnDataSource\"},\"glyph\":{\"id\":\"1019\",\"type\":\"Circle\"},\"hover_glyph\":null,\"muted_glyph\":null,\"view\":{\"id\":\"1013\",\"type\":\"CDSView\"}},\"id\":\"1012\",\"type\":\"GlyphRenderer\"},{\"attributes\":{\"graph_layout\":{\"0\":[-0.621189509797424,-0.10340758475379762],\"1\":[0.30416035860519813,-0.28962390549188516],\"2\":[-0.7609066445464705,0.732442242440294],\"3\":[0.07793579573869606,0.6308723383076896],\"4\":[1.0,-0.9702830905023003]}},\"id\":\"1018\",\"type\":\"StaticLayoutProvider\"},{\"attributes\":{},\"id\":\"1039\",\"type\":\"NodesOnly\"},{\"attributes\":{},\"id\":\"1026\",\"type\":\"LinearScale\"},{\"attributes\":{\"edge_renderer\":{\"id\":\"1016\",\"type\":\"GlyphRenderer\"},\"inspection_policy\":{\"id\":\"1039\",\"type\":\"NodesOnly\"},\"layout_provider\":{\"id\":\"1018\",\"type\":\"StaticLayoutProvider\"},\"node_renderer\":{\"id\":\"1012\",\"type\":\"GlyphRenderer\"},\"selection_policy\":{\"id\":\"1034\",\"type\":\"NodesOnly\"}},\"id\":\"1009\",\"type\":\"GraphRenderer\"},{\"attributes\":{\"callback\":null,\"data\":{\"index\":[0,1,3,4,2],\"node_color\":[\"white\",\"white\",\"white\",\"white\",\"white\"]},\"selected\":{\"id\":\"1043\",\"type\":\"Selection\"},\"selection_policy\":{\"id\":\"1042\",\"type\":\"UnionRenderers\"}},\"id\":\"1011\",\"type\":\"ColumnDataSource\"},{\"attributes\":{\"callback\":null,\"tooltips\":[[\"index\",\"@index\"]]},\"id\":\"1024\",\"type\":\"HoverTool\"},{\"attributes\":{},\"id\":\"1043\",\"type\":\"Selection\"},{\"attributes\":{},\"id\":\"1014\",\"type\":\"MultiLine\"},{\"attributes\":{},\"id\":\"1040\",\"type\":\"UnionRenderers\"},{\"attributes\":{\"source\":{\"id\":\"1011\",\"type\":\"ColumnDataSource\"}},\"id\":\"1013\",\"type\":\"CDSView\"},{\"attributes\":{},\"id\":\"1042\",\"type\":\"UnionRenderers\"},{\"attributes\":{\"fill_color\":{\"field\":\"node_color\"},\"size\":{\"units\":\"screen\",\"value\":15}},\"id\":\"1019\",\"type\":\"Circle\"},{\"attributes\":{\"data_source\":{\"id\":\"1015\",\"type\":\"ColumnDataSource\"},\"glyph\":{\"id\":\"1014\",\"type\":\"MultiLine\"},\"hover_glyph\":null,\"muted_glyph\":null,\"view\":{\"id\":\"1017\",\"type\":\"CDSView\"}},\"id\":\"1016\",\"type\":\"GlyphRenderer\"},{\"attributes\":{\"callback\":null,\"data\":{\"edge_color\":[\"black\",\"black\",\"black\",\"black\",\"black\"],\"end\":[1,2,3,4,2],\"start\":[0,0,1,1,3]},\"selected\":{\"id\":\"1041\",\"type\":\"Selection\"},\"selection_policy\":{\"id\":\"1040\",\"type\":\"UnionRenderers\"}},\"id\":\"1015\",\"type\":\"ColumnDataSource\"}],\"root_ids\":[\"1004\"]},\"title\":\"Bokeh Application\",\"version\":\"1.4.0\"}};\n",
       "  var render_items = [{\"docid\":\"e2206162-110f-45a8-9d3d-48c4ca5b24ec\",\"roots\":{\"1004\":\"a535b238-b45c-4f15-8ebd-e69cf980ed92\"}}];\n",
       "  root.Bokeh.embed.embed_items_notebook(docs_json, render_items);\n",
       "\n",
       "  }\n",
       "  if (root.Bokeh !== undefined) {\n",
       "    embed_document(root);\n",
       "  } else {\n",
       "    var attempts = 0;\n",
       "    var timer = setInterval(function(root) {\n",
       "      if (root.Bokeh !== undefined) {\n",
       "        clearInterval(timer);\n",
       "        embed_document(root);\n",
       "      } else {\n",
       "        attempts++;\n",
       "        if (attempts > 100) {\n",
       "          clearInterval(timer);\n",
       "          console.log(\"Bokeh: ERROR: Unable to run BokehJS code because BokehJS library is missing\");\n",
       "        }\n",
       "      }\n",
       "    }, 10, root)\n",
       "  }\n",
       "})(window);"
      ],
      "application/vnd.bokehjs_exec.v0+json": ""
     },
     "metadata": {
      "application/vnd.bokehjs_exec.v0+json": {
       "id": "1004"
      }
     },
     "output_type": "display_data"
    }
   ],
   "source": [
    "def get_plot(graph: Set[Tuple[int]], color_nodes: Optional[List[int]] = None) -> Plot:\n",
    "    \"\"\"Creates bokeh graph plot from edge set.\n",
    "    \n",
    "    Arguments:\n",
    "        graph: The graph to plot.\n",
    "        color_nodes: Colors given nodes green, default is white.\n",
    "    \"\"\"\n",
    "    color_nodes = color_nodes or []\n",
    "\n",
    "    G = nx.Graph(list(graph))\n",
    "    edge_attrs = {}\n",
    "    node_attrs = {}\n",
    "\n",
    "    for start_node, end_node, _ in G.edges(data=True):\n",
    "        edge_attrs[(start_node, end_node)] = \"black\"\n",
    "\n",
    "    for node in G.nodes:\n",
    "        node_attrs[node] = \"green\" if node in color_nodes else \"white\"\n",
    "\n",
    "    nx.set_edge_attributes(G, edge_attrs, \"edge_color\")\n",
    "    nx.set_node_attributes(G, node_attrs, \"node_color\")\n",
    "\n",
    "    # Show with Bokeh\n",
    "    plot = Plot(\n",
    "        plot_width=400,\n",
    "        plot_height=400,\n",
    "        x_range=Range1d(-1.1, 1.1),\n",
    "        y_range=Range1d(-1.1, 1.1),\n",
    "    )\n",
    "\n",
    "    graph_renderer = from_networkx(G, nx.spring_layout, scale=1, center=(0, 0))\n",
    "    graph_renderer.node_renderer.glyph = Circle(size=15, fill_color=\"node_color\")\n",
    "    plot.renderers.append(graph_renderer)\n",
    "\n",
    "    node_hover_tool = HoverTool(tooltips=[(\"index\", \"@index\")])\n",
    "    plot.add_tools(node_hover_tool)\n",
    "\n",
    "    return plot\n",
    "\n",
    "\n",
    "plot = get_plot(test_graph)\n",
    "show(plot)"
   ]
  },
  {
   "cell_type": "markdown",
   "metadata": {},
   "source": [
    "Form of the matrix which can be plugged in the annealer.\n",
    "\n",
    "The condition to minimize is \n",
    "\n",
    "$$\n",
    "    \\sum_{i=0}^{N_n} x_i  \\quad \\Leftrightarrow \\quad \\vec x \\cdot \\mathbb{1} \\cdot \\vec x\n",
    "$$\n",
    "\n",
    "with $x_i = 1, 0$ specifying wethere a node is in the dominating set or not.\n",
    "\n",
    "This condition needs to be minimized under the constraint\n",
    "\n",
    "$$\n",
    "    x_i + \\sum_{j \\in \\mathcal{N}_i} x_j \\geq 1 \\, \\forall_{i} \\in V\n",
    "$$\n",
    "where $\\mathcal{N}_i$ is the neighborhood of $i$.\n",
    "This is equivalent ot saying that for all vertex, the vertex at least one neighboring vertex must be included in the dominating set.\n",
    "\n",
    "\n",
    "This constraint can be mapped to\n",
    "$$\n",
    "    x_i  - s_{i} - 1 + \\sum_{j \\in \\mathcal{N}_i} x_j = 0 \\, , \\quad s_{i} \\geq 0 \\, .\n",
    "$$\n",
    "So we have to map each $s$ to integers.\n",
    "The above equation can only be zero if at least on of $x = 1$."
   ]
  },
  {
   "cell_type": "markdown",
   "metadata": {},
   "source": [
    "Thus our D-Wave function is\n",
    "\n",
    "$$\n",
    "    \\text{argmin}_{\\vec x, \\vec s}\\left[\n",
    "        \\sum_{i=0}^{N_n-1} x_i\n",
    "        + p\n",
    "        \\sum_{i=0}^{N_n-1} \\left(x_i  - s_{i} - 1  + \\sum_{j \\in\\mathcal{N}_i} x_j\\right)^2 = 0\n",
    "    \\right]\n",
    "    \\, ,\n",
    "$$\n",
    "with $p > N_n$."
   ]
  },
  {
   "cell_type": "markdown",
   "metadata": {},
   "source": [
    "Now we have that $|\\mathcal{N}_i| \\leq 2^{b_i} = \\max(s_i)$ .\n",
    "Meaning $s_i = \\sum_{k=0}^{b_i} 2^k q_k$ with $ q_k = 0, 1$.\n",
    "\n",
    "\\begin{align}\n",
    "    \\sum_{i=0}^{N_n-1} \\left(x_i - s_{i} - 1 + \\sum_{j \\in\\mathcal{N}_i} x_j\\right)^2\n",
    "    &=\n",
    "    \\alpha_{i_1 i_2} x_{i_1} x_{i_2}\n",
    "    + \\beta_{i_1 i_2} x_{i_1} q_{k_2}\n",
    "    + \\gamma_{i_1 i_2} q_{k_1} q_{k_2}\n",
    "    + N_n\n",
    "    =\n",
    "    \\psi Q \\psi + N_n\n",
    "\\end{align}\n",
    "such that\n",
    "$$\n",
    "    Q = \\begin{pmatrix}\\alpha & \\beta \\\\ 0 & \\gamma \\end{pmatrix}\n",
    "    \\, , \\qquad\n",
    "    \\psi = \\begin{pmatrix} \\vec x \\\\ \\vec q\\end{pmatrix}\n",
    "$$"
   ]
  },
  {
   "cell_type": "markdown",
   "metadata": {},
   "source": [
    "With\n",
    "\n",
    "\\begin{align}\n",
    "    \\alpha \\leftrightarrow & \n",
    "        x_i^2 + 2 x_i \\sum_j x_j  - 2 x_i - 2 \\sum_j x_j + \\left(\\sum_j x_j\\right)^2\n",
    "    \\, , &\n",
    "    \\beta \\leftrightarrow & \n",
    "        - 2 x_i s_i - 2 s_i \\sum_j x_j\n",
    "    \\, , &\n",
    "    \\gamma \\leftrightarrow & \\,\n",
    "       s_i^2 + 2 s_i\n",
    "    \\\\\n",
    "    \\alpha = & \\mathbb{1} + 2 N - 2 \\mathbb{1} - 2 \\text{diag}(|N|) + N^2\n",
    "    \\, , &\n",
    "    \\beta = & -2 (\\mathbb{1} + N) B\n",
    "    \\, , &\n",
    "     \\gamma = & \\, B^T\\mathbb{1}B + 2 \\text{diag}(|B|)\n",
    "\\end{align}\n",
    "\n",
    "where $N_{ij}$ is the adjecency matrix of the graph (symmetric and zero diagonal) and $B_{ik}$ is the bit map for\n",
    "integers $s_i$  to bits $q_k$ (note that the map encodes different $s_i$ with different length bits)."
   ]
  },
  {
   "cell_type": "markdown",
   "metadata": {},
   "source": [
    "## Details"
   ]
  },
  {
   "cell_type": "markdown",
   "metadata": {},
   "source": [
    "\\begin{align}\n",
    "    \\sum_{i \\in V} x_i^2 &\\to \\delta_{ij} \\,,&\n",
    "    \\sum_{i \\in V} x_i & \\to \\delta_{ij} \\,,\n",
    "\\end{align}\n",
    "\n",
    "\\begin{align}\n",
    "    \\sum_{i \\in V} \\sum_{j \\in \\mathcal N_i} x_j & \\to \\sum_{k} N_{kj} \\delta_{ij} \\, , &\n",
    "    \\sum_{i \\in V} \\sum_{j \\in \\mathcal N_i} x_i x_j & \\to N_{ij} \\, , &\n",
    "    \\sum_{i_1 \\in V}\\sum_{j_1 \\in\\mathcal{N}_{i_1}} x_{j_1} \\sum_{j_2 \\in\\mathcal{N}_{i_1}} x_{j_2}\n",
    "    & \\to\n",
    "   N_{i j_1} N_{i j_2}\n",
    "   =\n",
    "   N_{j_1 i} N_{i j_2} \\, ,\n",
    "\\end{align}\n",
    "\n",
    "\\begin{align}\n",
    "   \\sum_{i \\in V} \\sum_{j \\in \\mathcal N_i} s_i x_j & \\to \\sum_k N_{ji} B_{ik}  \\, , &\n",
    "\\end{align}\n",
    "where $N_{ij}$ is the adjecency matrix of the graph (symmetric and zero diagonal)."
   ]
  },
  {
   "cell_type": "markdown",
   "metadata": {},
   "source": [
    "$$\n",
    "     \\sum_{j \\in \\mathcal N_i} x_j = \\vec n_i \\cdot \\vec x  = \\sum_{j \\in V} N_{ij} x_j\\, ,\n",
    "$$\n",
    "\n",
    "where $\\vec n_i$ is a vector of ones and zeros---being one if vertx $j$ is a neighbor of vertex $i$.\n",
    "I believe $N$ is also called the adjancency matrix of the graph.\n",
    "\n",
    "$$\n",
    "    N_{ij} = \\begin{cases}\n",
    "        1 & j \\in \\mathcal N_i \\\\ 0 & \\text{otherwise}\n",
    "    \\end{cases}\n",
    "$$\n",
    "\n",
    "Note that $i$ is not in its own neighborhood $\\mathcal N_i$.\n",
    "\n",
    "Thus\n",
    "\\begin{align}\n",
    "    \\sum_{i \\in V} x_i c_i\n",
    "    &=\n",
    "    \\vec c \\cdot \\vec x\n",
    "    \\, , &\n",
    "    c_i = \\vec n_i \\cdot \\vec x\n",
    "    & & \\Rightarrow&  &\n",
    "    \\sum_{i \\in V} \\sum_{j \\in \\mathcal N_i} x_i x_j\n",
    "    &=\n",
    "    \\vec x \\cdot N \\cdot \\vec x \n",
    "\\end{align}\n",
    "\n",
    "and accordingly\n",
    "\n",
    "\\begin{align}\n",
    "    \\sum_{i \\in V} \\sum_{j \\in\\mathcal{N}_{i}} x_{j}\n",
    "    & \\to\n",
    "    \\sum_{j \\in V}|\\mathcal N_j| x_j\n",
    "\\end{align}\n",
    "where $|\\mathcal N_j|$ is the number of neighbors of vertex $j$."
   ]
  },
  {
   "cell_type": "markdown",
   "metadata": {},
   "source": [
    "## Example"
   ]
  },
  {
   "cell_type": "markdown",
   "metadata": {},
   "source": [
    "Picture the graph\n",
    "$$\n",
    " 0 - 1 - 2\n",
    "$$\n",
    "\n",
    "Thus we have\n",
    "\\begin{align}\n",
    "    N &= \\begin{pmatrix}\n",
    "        0 & 1 & 0 \\\\ 1 & 0 & 1 \\\\ 0 & 1 & 0\n",
    "    \\end{pmatrix}\n",
    "   \\, , &\n",
    "   |N| = \\begin{pmatrix}\n",
    "        1 \\\\ 2 \\\\ 1\n",
    "   \\end{pmatrix}\n",
    "   \\, .\n",
    "\\end{align}\n",
    "\n",
    "The slack variables must be $\\vec s \\geq |N|$. Thus the bit map is given by\n",
    "\\begin{align}\n",
    "    s_1 &= 2^0 q_{1 0} \\Rightarrow \\max(s_1) \\geq 1 \\, , & \n",
    "    s_2 &= 2^0 q_{2 0} + 2^1 q_{2 1} \\Rightarrow \\max(s_2) \\geq 2 \\, , & \n",
    "    s_3 &= 2^0 q_{3 0} \\Rightarrow \\max(s_3) \\geq 1 \\, , & \n",
    "\\end{align}\n",
    "with $q_{ik} \\in \\{0,1\\}$.\n",
    "We therefor get\n",
    "\\begin{align}\n",
    "    B &= \\begin{pmatrix}\n",
    "        1 & 0 & 0 & 0 \\\\ 0 & 1 & 2 & 0 \\\\ 0 & 0 & 0 & 1\n",
    "    \\end{pmatrix}\n",
    "   \\, , &\n",
    "   \\vec q\n",
    "   &=\n",
    "   \\begin{pmatrix}\n",
    "        q_{1 0} \\\\ q_{2 0} \\\\ q_{2 1} \\\\ q_{3 0}\n",
    "   \\end{pmatrix}\n",
    "   \\, , &\n",
    "   |B| = \\begin{pmatrix}\n",
    "        1 \\\\ 1 \\\\ 2 \\\\ 1\n",
    "   \\end{pmatrix}\n",
    "   \\, .\n",
    "\\end{align}\n",
    "\n"
   ]
  },
  {
   "cell_type": "code",
   "execution_count": 6,
   "metadata": {},
   "outputs": [
    {
     "name": "stdout",
     "output_type": "stream",
     "text": [
      "N = \n",
      " [[0 1 0]\n",
      " [1 0 1]\n",
      " [0 1 0]]\n",
      "\n",
      "|N| = \n",
      " [[1]\n",
      " [2]\n",
      " [1]]\n",
      "B = \n",
      " [[1 0 0 0]\n",
      " [0 1 2 0]\n",
      " [0 0 0 1]]\n"
     ]
    }
   ],
   "source": [
    "graph = {(0, 1), (1, 2)}\n",
    "\n",
    "adjacency = dok_matrix((3, 3), dtype=int)\n",
    "\n",
    "for edge in graph:\n",
    "    adjacency[edge] = 1\n",
    "adjacency += adjacency.T\n",
    "print(\"N = \\n\", adjacency.todense())\n",
    "print(\"\\n|N| = \\n\", adjacency.sum(axis=1))\n",
    "\n",
    "bitmap = dok_matrix((3, 4), dtype=int)\n",
    "bitmap[(0, 0)] = 1\n",
    "bitmap[(1, 1)] = 1\n",
    "bitmap[(1, 2)] = 2\n",
    "bitmap[(2, 3)] = 1\n",
    "\n",
    "\n",
    "print(\"B = \\n\", bitmap.todense())"
   ]
  },
  {
   "cell_type": "code",
   "execution_count": 7,
   "metadata": {},
   "outputs": [],
   "source": [
    "one = dok_matrix(adjacency.shape, dtype=int)\n",
    "for n in range(adjacency.shape[0]):\n",
    "    one[(n, n)] = 1\n",
    "\n",
    "neighborhood = dok_matrix(adjacency.shape, dtype=int)\n",
    "for n, el in enumerate(adjacency.sum(axis=1)):\n",
    "    neighborhood[(n, n)] = el\n",
    "\n",
    "alpha = -one + 2 * adjacency - 2 * neighborhood + adjacency @ adjacency"
   ]
  },
  {
   "cell_type": "code",
   "execution_count": 8,
   "metadata": {},
   "outputs": [],
   "source": [
    "from sympy import S, Matrix"
   ]
  },
  {
   "cell_type": "code",
   "execution_count": 9,
   "metadata": {},
   "outputs": [
    {
     "name": "stdout",
     "output_type": "stream",
     "text": [
      "Matrix([[x1], [x2], [x3]])\n"
     ]
    },
    {
     "data": {
      "text/latex": [
       "$\\displaystyle - 2 x_{1}^{2} + 4 x_{1} x_{2} + 2 x_{1} x_{3} - 3 x_{2}^{2} + 4 x_{2} x_{3} - 2 x_{3}^{2} + 3$"
      ],
      "text/plain": [
       "-2*x1**2 + 4*x1*x2 + 2*x1*x3 - 3*x2**2 + 4*x2*x3 - 2*x3**2 + 3"
      ]
     },
     "execution_count": 9,
     "metadata": {},
     "output_type": "execute_result"
    }
   ],
   "source": [
    "x1, x2, x3 = S(\"x1\"), S(\"x2\"), S(\"x3\")\n",
    "M = Matrix(alpha.todense())\n",
    "x = Matrix([[x1, x2, x3]]).T\n",
    "\n",
    "print(x)\n",
    "\n",
    "sol = (x.T @ M @ x).expand()[0] + 3\n",
    "sol"
   ]
  },
  {
   "cell_type": "code",
   "execution_count": 10,
   "metadata": {},
   "outputs": [
    {
     "data": {
      "text/latex": [
       "$\\displaystyle 2 x_{1}^{2} + 4 x_{1} x_{2} + 2 x_{1} x_{3} - 4 x_{1} + 3 x_{2}^{2} + 4 x_{2} x_{3} - 6 x_{2} + 2 x_{3}^{2} - 4 x_{3} + 3$"
      ],
      "text/plain": [
       "2*x1**2 + 4*x1*x2 + 2*x1*x3 - 4*x1 + 3*x2**2 + 4*x2*x3 - 6*x2 + 2*x3**2 - 4*x3 + 3"
      ]
     },
     "execution_count": 10,
     "metadata": {},
     "output_type": "execute_result"
    }
   ],
   "source": [
    "nn = Matrix([x2, x1 + x3, x2])\n",
    "\n",
    "constraint = Matrix([x1 - 1 + x2, x2 - 1 + x1 + x3, x3 - 1 + x2])\n",
    "eq = (constraint.T @ constraint).expand()[0]\n",
    "eq"
   ]
  },
  {
   "cell_type": "code",
   "execution_count": 11,
   "metadata": {},
   "outputs": [
    {
     "data": {
      "text/latex": [
       "$\\displaystyle 4 x_{1}^{2} - 4 x_{1} + 6 x_{2}^{2} - 6 x_{2} + 4 x_{3}^{2} - 4 x_{3}$"
      ],
      "text/plain": [
       "4*x1**2 - 4*x1 + 6*x2**2 - 6*x2 + 4*x3**2 - 4*x3"
      ]
     },
     "execution_count": 11,
     "metadata": {},
     "output_type": "execute_result"
    }
   ],
   "source": [
    "eq - sol"
   ]
  },
  {
   "cell_type": "code",
   "execution_count": 12,
   "metadata": {},
   "outputs": [
    {
     "data": {
      "text/plain": [
       "matrix([[-2, -2, -4,  0],\n",
       "        [-2, -2, -4, -2],\n",
       "        [ 0, -2, -4, -2]], dtype=int64)"
      ]
     },
     "execution_count": 12,
     "metadata": {},
     "output_type": "execute_result"
    }
   ],
   "source": [
    "q10, q20, q21, q30 = S(\"q10\"), S(\"q20\"), S(\"q21\"), S(\"q30\")\n",
    "q = Matrix([[q10, q20, q21, q30]]).T\n",
    "\n",
    "beta = -2 * (one + adjacency) @ bitmap\n",
    "beta.todense()"
   ]
  },
  {
   "cell_type": "code",
   "execution_count": 13,
   "metadata": {},
   "outputs": [
    {
     "data": {
      "text/latex": [
       "$\\displaystyle - 2 s_{1} x_{1} - 2 s_{1} x_{2} - 2 s_{2} x_{1} - 2 s_{2} x_{2} - 2 s_{2} x_{3} - 2 s_{3} x_{2} - 2 s_{3} x_{3}$"
      ],
      "text/plain": [
       "-2*s1*x1 - 2*s1*x2 - 2*s2*x1 - 2*s2*x2 - 2*s2*x3 - 2*s3*x2 - 2*s3*x3"
      ]
     },
     "execution_count": 13,
     "metadata": {},
     "output_type": "execute_result"
    }
   ],
   "source": [
    "s = Matrix([[\"s1\", \"s2\", \"s3\"]]).T\n",
    "sol = (x.T @ beta @ q)[0].subs({\"q10\": \"s1\", \"q30\": \"s3\", \"q20\": \"s2 - 2*q21\"}).expand()\n",
    "sol"
   ]
  },
  {
   "cell_type": "code",
   "execution_count": 14,
   "metadata": {},
   "outputs": [
    {
     "data": {
      "text/latex": [
       "$\\displaystyle - 2 s_{1} x_{1} - 2 s_{1} x_{2} - 2 s_{2} x_{1} - 2 s_{2} x_{2} - 2 s_{2} x_{3} - 2 s_{3} x_{2} - 2 s_{3} x_{3}$"
      ],
      "text/plain": [
       "-2*s1*x1 - 2*s1*x2 - 2*s2*x1 - 2*s2*x2 - 2*s2*x3 - 2*s3*x2 - 2*s3*x3"
      ]
     },
     "execution_count": 14,
     "metadata": {},
     "output_type": "execute_result"
    }
   ],
   "source": [
    "eq = (-2 * x.T @ s - 2 * nn.T @ s)[0].expand()\n",
    "eq"
   ]
  },
  {
   "cell_type": "code",
   "execution_count": 15,
   "metadata": {},
   "outputs": [
    {
     "data": {
      "text/latex": [
       "$\\displaystyle 0$"
      ],
      "text/plain": [
       "0"
      ]
     },
     "execution_count": 15,
     "metadata": {},
     "output_type": "execute_result"
    }
   ],
   "source": [
    "eq - sol"
   ]
  },
  {
   "cell_type": "code",
   "execution_count": 16,
   "metadata": {},
   "outputs": [
    {
     "data": {
      "text/plain": [
       "<4x4 sparse matrix of type '<class 'numpy.int64'>'\n",
       "\twith 6 stored elements in Compressed Sparse Row format>"
      ]
     },
     "execution_count": 16,
     "metadata": {},
     "output_type": "execute_result"
    }
   ],
   "source": [
    "bb = dok_matrix((4, 4), dtype=int)\n",
    "for n, el in enumerate(bitmap.sum(axis=0).tolist()[0]):\n",
    "    bb[(n, n)] = el\n",
    "\n",
    "gamma = bitmap.T @ bitmap + 2 * bb\n",
    "sol = (q.T @ gamma @ q)[0].expand()\n",
    "sol\n",
    "gamma"
   ]
  },
  {
   "cell_type": "code",
   "execution_count": 17,
   "metadata": {},
   "outputs": [
    {
     "data": {
      "text/latex": [
       "$\\displaystyle 3 q_{10}^{2} + 3 q_{20}^{2} + 4 q_{20} q_{21} + 8 q_{21}^{2} + 3 q_{30}^{2} + 2 s_{1} x_{1} + 2 s_{1} x_{2} + 2 s_{2} x_{1} + 2 s_{2} x_{2} + 2 s_{2} x_{3} + 2 s_{3} x_{2} + 2 s_{3} x_{3}$"
      ],
      "text/plain": [
       "3*q10**2 + 3*q20**2 + 4*q20*q21 + 8*q21**2 + 3*q30**2 + 2*s1*x1 + 2*s1*x2 + 2*s2*x1 + 2*s2*x2 + 2*s2*x3 + 2*s3*x2 + 2*s3*x3"
      ]
     },
     "execution_count": 17,
     "metadata": {},
     "output_type": "execute_result"
    }
   ],
   "source": [
    "sol - eq"
   ]
  },
  {
   "cell_type": "code",
   "execution_count": 18,
   "metadata": {},
   "outputs": [
    {
     "name": "stdout",
     "output_type": "stream",
     "text": [
      "[[-2  2  1]\n",
      " [ 2 -3  2]\n",
      " [ 1  2 -2]]\n",
      "[[-2 -2 -4  0]\n",
      " [-2 -2 -4 -2]\n",
      " [ 0 -2 -4 -2]]\n",
      "[[3 0 0 0]\n",
      " [0 3 2 0]\n",
      " [0 2 8 0]\n",
      " [0 0 0 3]]\n"
     ]
    }
   ],
   "source": [
    "print(alpha.todense())\n",
    "print(beta.todense())\n",
    "print(gamma.todense())"
   ]
  },
  {
   "cell_type": "code",
   "execution_count": null,
   "metadata": {},
   "outputs": [],
   "source": []
  },
  {
   "cell_type": "markdown",
   "metadata": {},
   "source": [
    "## QUBO"
   ]
  },
  {
   "cell_type": "code",
   "execution_count": 19,
   "metadata": {},
   "outputs": [
    {
     "data": {
      "text/plain": [
       "matrix([[0, 1, 1, 0, 0],\n",
       "        [1, 0, 0, 1, 1],\n",
       "        [1, 0, 0, 1, 0],\n",
       "        [0, 1, 1, 0, 0],\n",
       "        [0, 1, 0, 0, 0]])"
      ]
     },
     "execution_count": 19,
     "metadata": {},
     "output_type": "execute_result"
    }
   ],
   "source": [
    "def get_adjacency(graph: Set[Tuple[int]]) -> dok_matrix:\n",
    "    \"\"\"This routine computes the adjecency matrix for a given graph.\n",
    "    \n",
    "    It assumes the graph is connected and nodes are labeled from 0...N-1.\n",
    "    Self loops are forbidden.\n",
    "    \"\"\"\n",
    "    if not isinstance(graph, set):\n",
    "        raise TypeError(\"Graph must be a set of tuples\")\n",
    "\n",
    "    nodes = set()\n",
    "    adj = dict()\n",
    "\n",
    "    for v1, v2 in graph:\n",
    "        if v1 == v2:\n",
    "            raise KeyError(f\"Self loops are not allowed (v={v1}).\")\n",
    "\n",
    "        nodes.add(v1)\n",
    "        nodes.add(v2)\n",
    "        adj[(v1, v2)] = 1\n",
    "\n",
    "    nodes = sorted(nodes)\n",
    "    n_nodes = len(nodes)\n",
    "\n",
    "    if nodes != list(range(n_nodes)):\n",
    "        raise KeyError(\"Nodes must be from 0 ... n_nodes\")\n",
    "\n",
    "    adjacency = dok_matrix((n_nodes, n_nodes), dtype=int)\n",
    "    for (v1, v2), val in adj.items():\n",
    "        adjacency[(v1, v2)] = val\n",
    "        adjacency[(v2, v1)] = val\n",
    "\n",
    "    if not all([val == 1 for val in adjacency.values()]):\n",
    "        raise KeyError(\"Double entries in graph\")\n",
    "\n",
    "    return adjacency\n",
    "\n",
    "\n",
    "adjacency = get_adjacency(test_graph)\n",
    "adjacency.todense()"
   ]
  },
  {
   "cell_type": "code",
   "execution_count": 20,
   "metadata": {},
   "outputs": [
    {
     "name": "stdout",
     "output_type": "stream",
     "text": [
      "[2, 3, 2, 2, 1]\n",
      "[2 2 2 2 1]\n"
     ]
    },
    {
     "data": {
      "text/plain": [
       "matrix([[1, 2, 0, 0, 0, 0, 0, 0, 0],\n",
       "        [0, 0, 1, 2, 0, 0, 0, 0, 0],\n",
       "        [0, 0, 0, 0, 1, 2, 0, 0, 0],\n",
       "        [0, 0, 0, 0, 0, 0, 1, 2, 0],\n",
       "        [0, 0, 0, 0, 0, 0, 0, 0, 1]])"
      ]
     },
     "execution_count": 20,
     "metadata": {},
     "output_type": "execute_result"
    }
   ],
   "source": [
    "adjacency = get_adjacency(test_graph)\n",
    "n_neigbors = adjacency.sum(axis=1).flatten().tolist()[0]\n",
    "print(n_neigbors)\n",
    "\n",
    "\n",
    "def get_bitmap(n_neigbors: List[int]) -> dok_matrix:\n",
    "    r\"\"\"Computes the map of slack-bits to slack integers.\n",
    "    \n",
    "    This matrix B maps the bit vector b to slack variables s.\n",
    "    Each s_i has max(s_i) >= N_i where N_i is the number of \n",
    "    neigbors of vertex i.  \n",
    "    The bit vector b = (b_00, b_01, b_02, ... , b_11, b_12, ...) \n",
    "    with b_ij will be mapped onto s_iaccording to \n",
    "    s_i = sum_j 2**j b_ij.\n",
    "    Thus the size of the returned matrix scales as \n",
    "    ~ sum_i log2(N_i)\n",
    "    \n",
    "    Arguments:\n",
    "        n_neigbors: The number of neighbors for each vertex.\n",
    "    \"\"\"\n",
    "    n_nodes = len(n_neigbors)\n",
    "\n",
    "    # Figure out how many bits we need for each neighborhood\n",
    "    n_bits = np.floor(np.log2(n_neigbors) + 1).astype(int)\n",
    "\n",
    "    print(n_bits)\n",
    "\n",
    "    bitmap = dok_matrix((n_nodes, n_bits.sum()), dtype=int)\n",
    "\n",
    "    acc = 0\n",
    "    for v, n_bit in enumerate(n_bits):\n",
    "        for n in range(n_bit):\n",
    "            bitmap[(v, acc)] = 2 ** n\n",
    "            acc += 1\n",
    "\n",
    "    return bitmap\n",
    "\n",
    "\n",
    "bitmap = get_bitmap(n_neigbors)\n",
    "bitmap.todense()"
   ]
  },
  {
   "cell_type": "code",
   "execution_count": 21,
   "metadata": {},
   "outputs": [
    {
     "name": "stdout",
     "output_type": "stream",
     "text": [
      "[2 2 2 2 1]\n"
     ]
    },
    {
     "data": {
      "text/plain": [
       "<14x14 sparse matrix of type '<class 'numpy.int64'>'\n",
       "\twith 68 stored elements in Dictionary Of Keys format>"
      ]
     },
     "execution_count": 21,
     "metadata": {},
     "output_type": "execute_result"
    }
   ],
   "source": [
    "def get_mds_qubo(graph: Set[Tuple[int]]) -> dok_matrix:\n",
    "    \"\"\"This routine computes minimal dominating set QUBO for a given graph.\n",
    "    \n",
    "    It assumes the graph is connected and nodes are labeled from 0...N-1.\n",
    "    Self loops are forbidden.\n",
    "    \"\"\"\n",
    "    ## This is N\n",
    "    adjacency = get_adjacency(graph)\n",
    "\n",
    "    ## Id in x-space\n",
    "    one = dok_matrix(adjacency.shape, dtype=int)\n",
    "    for n in range(adjacency.shape[0]):\n",
    "        one[(n, n)] = 1\n",
    "\n",
    "    ## |N|\n",
    "    n_neigbors = adjacency.sum(axis=1).flatten().tolist()[0]\n",
    "\n",
    "    ## diag(|N|)\n",
    "    diag_neighbor = dok_matrix(adjacency.shape, dtype=int)\n",
    "    for n, el in enumerate(n_neigbors):\n",
    "        diag_neighbor[(n, n)] = el\n",
    "\n",
    "    ## B\n",
    "    bitmap = get_bitmap(n_neigbors)\n",
    "    n_bits = bitmap.shape[1]\n",
    "\n",
    "    ## diag(|B|)\n",
    "    diag_bitmap = dok_matrix((n_bits, n_bits), dtype=int)\n",
    "    for n, el in enumerate(bitmap.sum(axis=0).tolist()[0]):\n",
    "        diag_bitmap[(n, n)] = el\n",
    "\n",
    "    ## Compute QUBO components\n",
    "    alpha = -one + 2 * adjacency - 2 * diag_neighbor + adjacency @ adjacency\n",
    "    beta = -2 * (one + adjacency) @ bitmap\n",
    "    gamma = bitmap.T @ bitmap + 2 * diag_bitmap\n",
    "\n",
    "    ## Multiply by penalty factor\n",
    "    penalty = len(n_neigbors) + 1\n",
    "    alpha *= penalty\n",
    "    beta *= penalty\n",
    "    gamma *= penalty\n",
    "\n",
    "    ## Add in minimization condition\n",
    "    alpha += one\n",
    "\n",
    "    ## Construt QUBO\n",
    "    return bmat([[alpha, beta], [None, gamma]]).todok()\n",
    "\n",
    "\n",
    "qubo = get_mds_qubo(test_graph)\n",
    "qubo"
   ]
  },
  {
   "cell_type": "code",
   "execution_count": 22,
   "metadata": {},
   "outputs": [
    {
     "data": {
      "text/plain": [
       "[[2, 4], [1, 3], [1, 2], [0, 1]]"
      ]
     },
     "execution_count": 22,
     "metadata": {},
     "output_type": "execute_result"
    }
   ],
   "source": [
    "energies = []\n",
    "vecs = []\n",
    "for vv in product(*[(0, 1)] * qubo.shape[1]):\n",
    "    ee = (vv @ qubo @ vv).flatten()[0]\n",
    "    energies.append(ee)\n",
    "    vecs.append(vv)\n",
    "\n",
    "e_min = np.min(energies)\n",
    "solutions = [\n",
    "    [nn for nn, bb in enumerate(vv[:n_nodes]) if bb == 1]\n",
    "    for vv, ee in zip(vecs, energies)\n",
    "    if ee == e_min\n",
    "]\n",
    "solutions"
   ]
  },
  {
   "cell_type": "code",
   "execution_count": 23,
   "metadata": {
    "scrolled": false
   },
   "outputs": [
    {
     "data": {
      "text/html": [
       "\n",
       "\n",
       "\n",
       "\n",
       "\n",
       "\n",
       "  <div class=\"bk-root\" id=\"e8ab386b-61e9-4344-9c73-fb696883e845\" data-root-id=\"1174\"></div>\n"
      ]
     },
     "metadata": {},
     "output_type": "display_data"
    },
    {
     "data": {
      "application/javascript": [
       "(function(root) {\n",
       "  function embed_document(root) {\n",
       "    \n",
       "  var docs_json = {\"24a283f5-41c2-4ae7-9a85-dd7d95b64ff0\":{\"roots\":{\"references\":[{\"attributes\":{\"plot_height\":400,\"plot_width\":400,\"renderers\":[{\"id\":\"1179\",\"type\":\"GraphRenderer\"}],\"title\":{\"id\":\"1217\",\"type\":\"Title\"},\"toolbar\":{\"id\":\"1195\",\"type\":\"Toolbar\"},\"x_range\":{\"id\":\"1172\",\"type\":\"Range1d\"},\"x_scale\":{\"id\":\"1215\",\"type\":\"LinearScale\"},\"y_range\":{\"id\":\"1173\",\"type\":\"Range1d\"},\"y_scale\":{\"id\":\"1214\",\"type\":\"LinearScale\"}},\"id\":\"1174\",\"type\":\"Plot\"},{\"attributes\":{},\"id\":\"1214\",\"type\":\"LinearScale\"},{\"attributes\":{\"callback\":null,\"tooltips\":[[\"index\",\"@index\"]]},\"id\":\"1194\",\"type\":\"HoverTool\"},{\"attributes\":{\"source\":{\"id\":\"1181\",\"type\":\"ColumnDataSource\"}},\"id\":\"1183\",\"type\":\"CDSView\"},{\"attributes\":{\"text\":\"\"},\"id\":\"1217\",\"type\":\"Title\"},{\"attributes\":{\"graph_layout\":{\"0\":[0.15290469376239185,-0.5799019831248515],\"1\":[0.24427960300231977,0.2994016351668987],\"2\":[-0.6142978411487172,-0.7528986478350449],\"3\":[-0.5988523057586365,0.03339899579299819],\"4\":[0.8159658501426412,1.0]}},\"id\":\"1188\",\"type\":\"StaticLayoutProvider\"},{\"attributes\":{\"callback\":null,\"end\":1.1,\"start\":-1.1},\"id\":\"1172\",\"type\":\"Range1d\"},{\"attributes\":{},\"id\":\"1215\",\"type\":\"LinearScale\"},{\"attributes\":{\"data_source\":{\"id\":\"1181\",\"type\":\"ColumnDataSource\"},\"glyph\":{\"id\":\"1189\",\"type\":\"Circle\"},\"hover_glyph\":null,\"muted_glyph\":null,\"view\":{\"id\":\"1183\",\"type\":\"CDSView\"}},\"id\":\"1182\",\"type\":\"GlyphRenderer\"},{\"attributes\":{},\"id\":\"1227\",\"type\":\"NodesOnly\"},{\"attributes\":{\"callback\":null,\"data\":{\"edge_color\":[\"black\",\"black\",\"black\",\"black\",\"black\"],\"end\":[1,2,3,4,2],\"start\":[0,0,1,1,3]},\"selected\":{\"id\":\"1229\",\"type\":\"Selection\"},\"selection_policy\":{\"id\":\"1228\",\"type\":\"UnionRenderers\"}},\"id\":\"1185\",\"type\":\"ColumnDataSource\"},{\"attributes\":{\"callback\":null,\"end\":1.1,\"start\":-1.1},\"id\":\"1173\",\"type\":\"Range1d\"},{\"attributes\":{},\"id\":\"1222\",\"type\":\"NodesOnly\"},{\"attributes\":{},\"id\":\"1228\",\"type\":\"UnionRenderers\"},{\"attributes\":{},\"id\":\"1231\",\"type\":\"Selection\"},{\"attributes\":{\"data_source\":{\"id\":\"1185\",\"type\":\"ColumnDataSource\"},\"glyph\":{\"id\":\"1184\",\"type\":\"MultiLine\"},\"hover_glyph\":null,\"muted_glyph\":null,\"view\":{\"id\":\"1187\",\"type\":\"CDSView\"}},\"id\":\"1186\",\"type\":\"GlyphRenderer\"},{\"attributes\":{\"fill_color\":{\"field\":\"node_color\"},\"size\":{\"units\":\"screen\",\"value\":15}},\"id\":\"1189\",\"type\":\"Circle\"},{\"attributes\":{\"callback\":null,\"data\":{\"index\":[0,1,3,4,2],\"node_color\":[\"white\",\"white\",\"white\",\"green\",\"green\"]},\"selected\":{\"id\":\"1231\",\"type\":\"Selection\"},\"selection_policy\":{\"id\":\"1230\",\"type\":\"UnionRenderers\"}},\"id\":\"1181\",\"type\":\"ColumnDataSource\"},{\"attributes\":{\"edge_renderer\":{\"id\":\"1186\",\"type\":\"GlyphRenderer\"},\"inspection_policy\":{\"id\":\"1227\",\"type\":\"NodesOnly\"},\"layout_provider\":{\"id\":\"1188\",\"type\":\"StaticLayoutProvider\"},\"node_renderer\":{\"id\":\"1182\",\"type\":\"GlyphRenderer\"},\"selection_policy\":{\"id\":\"1222\",\"type\":\"NodesOnly\"}},\"id\":\"1179\",\"type\":\"GraphRenderer\"},{\"attributes\":{\"source\":{\"id\":\"1185\",\"type\":\"ColumnDataSource\"}},\"id\":\"1187\",\"type\":\"CDSView\"},{\"attributes\":{},\"id\":\"1184\",\"type\":\"MultiLine\"},{\"attributes\":{\"active_drag\":\"auto\",\"active_inspect\":\"auto\",\"active_multi\":null,\"active_scroll\":\"auto\",\"active_tap\":\"auto\",\"tools\":[{\"id\":\"1194\",\"type\":\"HoverTool\"}]},\"id\":\"1195\",\"type\":\"Toolbar\"},{\"attributes\":{},\"id\":\"1230\",\"type\":\"UnionRenderers\"},{\"attributes\":{},\"id\":\"1229\",\"type\":\"Selection\"}],\"root_ids\":[\"1174\"]},\"title\":\"Bokeh Application\",\"version\":\"1.4.0\"}};\n",
       "  var render_items = [{\"docid\":\"24a283f5-41c2-4ae7-9a85-dd7d95b64ff0\",\"roots\":{\"1174\":\"e8ab386b-61e9-4344-9c73-fb696883e845\"}}];\n",
       "  root.Bokeh.embed.embed_items_notebook(docs_json, render_items);\n",
       "\n",
       "  }\n",
       "  if (root.Bokeh !== undefined) {\n",
       "    embed_document(root);\n",
       "  } else {\n",
       "    var attempts = 0;\n",
       "    var timer = setInterval(function(root) {\n",
       "      if (root.Bokeh !== undefined) {\n",
       "        clearInterval(timer);\n",
       "        embed_document(root);\n",
       "      } else {\n",
       "        attempts++;\n",
       "        if (attempts > 100) {\n",
       "          clearInterval(timer);\n",
       "          console.log(\"Bokeh: ERROR: Unable to run BokehJS code because BokehJS library is missing\");\n",
       "        }\n",
       "      }\n",
       "    }, 10, root)\n",
       "  }\n",
       "})(window);"
      ],
      "application/vnd.bokehjs_exec.v0+json": ""
     },
     "metadata": {
      "application/vnd.bokehjs_exec.v0+json": {
       "id": "1174"
      }
     },
     "output_type": "display_data"
    },
    {
     "data": {
      "text/html": [
       "\n",
       "\n",
       "\n",
       "\n",
       "\n",
       "\n",
       "  <div class=\"bk-root\" id=\"df7bc3eb-c025-485b-bb8d-e9ddfb6216cc\" data-root-id=\"1362\"></div>\n"
      ]
     },
     "metadata": {},
     "output_type": "display_data"
    },
    {
     "data": {
      "application/javascript": [
       "(function(root) {\n",
       "  function embed_document(root) {\n",
       "    \n",
       "  var docs_json = {\"2af451c9-f6f2-4a18-ab82-023758723e13\":{\"roots\":{\"references\":[{\"attributes\":{\"plot_height\":400,\"plot_width\":400,\"renderers\":[{\"id\":\"1367\",\"type\":\"GraphRenderer\"}],\"title\":{\"id\":\"1423\",\"type\":\"Title\"},\"toolbar\":{\"id\":\"1383\",\"type\":\"Toolbar\"},\"x_range\":{\"id\":\"1360\",\"type\":\"Range1d\"},\"x_scale\":{\"id\":\"1421\",\"type\":\"LinearScale\"},\"y_range\":{\"id\":\"1361\",\"type\":\"Range1d\"},\"y_scale\":{\"id\":\"1420\",\"type\":\"LinearScale\"}},\"id\":\"1362\",\"type\":\"Plot\"},{\"attributes\":{},\"id\":\"1437\",\"type\":\"Selection\"},{\"attributes\":{\"data_source\":{\"id\":\"1369\",\"type\":\"ColumnDataSource\"},\"glyph\":{\"id\":\"1377\",\"type\":\"Circle\"},\"hover_glyph\":null,\"muted_glyph\":null,\"view\":{\"id\":\"1371\",\"type\":\"CDSView\"}},\"id\":\"1370\",\"type\":\"GlyphRenderer\"},{\"attributes\":{\"data_source\":{\"id\":\"1373\",\"type\":\"ColumnDataSource\"},\"glyph\":{\"id\":\"1372\",\"type\":\"MultiLine\"},\"hover_glyph\":null,\"muted_glyph\":null,\"view\":{\"id\":\"1375\",\"type\":\"CDSView\"}},\"id\":\"1374\",\"type\":\"GlyphRenderer\"},{\"attributes\":{},\"id\":\"1372\",\"type\":\"MultiLine\"},{\"attributes\":{\"callback\":null,\"data\":{\"index\":[0,1,3,4,2],\"node_color\":[\"white\",\"green\",\"green\",\"white\",\"white\"]},\"selected\":{\"id\":\"1437\",\"type\":\"Selection\"},\"selection_policy\":{\"id\":\"1436\",\"type\":\"UnionRenderers\"}},\"id\":\"1369\",\"type\":\"ColumnDataSource\"},{\"attributes\":{},\"id\":\"1433\",\"type\":\"NodesOnly\"},{\"attributes\":{\"source\":{\"id\":\"1369\",\"type\":\"ColumnDataSource\"}},\"id\":\"1371\",\"type\":\"CDSView\"},{\"attributes\":{},\"id\":\"1428\",\"type\":\"NodesOnly\"},{\"attributes\":{\"source\":{\"id\":\"1373\",\"type\":\"ColumnDataSource\"}},\"id\":\"1375\",\"type\":\"CDSView\"},{\"attributes\":{\"fill_color\":{\"field\":\"node_color\"},\"size\":{\"units\":\"screen\",\"value\":15}},\"id\":\"1377\",\"type\":\"Circle\"},{\"attributes\":{},\"id\":\"1434\",\"type\":\"UnionRenderers\"},{\"attributes\":{},\"id\":\"1421\",\"type\":\"LinearScale\"},{\"attributes\":{\"callback\":null,\"tooltips\":[[\"index\",\"@index\"]]},\"id\":\"1382\",\"type\":\"HoverTool\"},{\"attributes\":{},\"id\":\"1436\",\"type\":\"UnionRenderers\"},{\"attributes\":{},\"id\":\"1420\",\"type\":\"LinearScale\"},{\"attributes\":{\"edge_renderer\":{\"id\":\"1374\",\"type\":\"GlyphRenderer\"},\"inspection_policy\":{\"id\":\"1433\",\"type\":\"NodesOnly\"},\"layout_provider\":{\"id\":\"1376\",\"type\":\"StaticLayoutProvider\"},\"node_renderer\":{\"id\":\"1370\",\"type\":\"GlyphRenderer\"},\"selection_policy\":{\"id\":\"1428\",\"type\":\"NodesOnly\"}},\"id\":\"1367\",\"type\":\"GraphRenderer\"},{\"attributes\":{},\"id\":\"1435\",\"type\":\"Selection\"},{\"attributes\":{\"callback\":null,\"end\":1.1,\"start\":-1.1},\"id\":\"1360\",\"type\":\"Range1d\"},{\"attributes\":{\"graph_layout\":{\"0\":[0.09975834259619215,0.49073591409172607],\"1\":[-0.2965525490267509,-0.13939494545833958],\"2\":[0.7540627295604294,0.3520985167374184],\"3\":[0.44273147687012926,-0.2399675681173608],\"4\":[-1.0,-0.46347191725344355]}},\"id\":\"1376\",\"type\":\"StaticLayoutProvider\"},{\"attributes\":{\"text\":\"\"},\"id\":\"1423\",\"type\":\"Title\"},{\"attributes\":{\"callback\":null,\"end\":1.1,\"start\":-1.1},\"id\":\"1361\",\"type\":\"Range1d\"},{\"attributes\":{\"active_drag\":\"auto\",\"active_inspect\":\"auto\",\"active_multi\":null,\"active_scroll\":\"auto\",\"active_tap\":\"auto\",\"tools\":[{\"id\":\"1382\",\"type\":\"HoverTool\"}]},\"id\":\"1383\",\"type\":\"Toolbar\"},{\"attributes\":{\"callback\":null,\"data\":{\"edge_color\":[\"black\",\"black\",\"black\",\"black\",\"black\"],\"end\":[1,2,3,4,2],\"start\":[0,0,1,1,3]},\"selected\":{\"id\":\"1435\",\"type\":\"Selection\"},\"selection_policy\":{\"id\":\"1434\",\"type\":\"UnionRenderers\"}},\"id\":\"1373\",\"type\":\"ColumnDataSource\"}],\"root_ids\":[\"1362\"]},\"title\":\"Bokeh Application\",\"version\":\"1.4.0\"}};\n",
       "  var render_items = [{\"docid\":\"2af451c9-f6f2-4a18-ab82-023758723e13\",\"roots\":{\"1362\":\"df7bc3eb-c025-485b-bb8d-e9ddfb6216cc\"}}];\n",
       "  root.Bokeh.embed.embed_items_notebook(docs_json, render_items);\n",
       "\n",
       "  }\n",
       "  if (root.Bokeh !== undefined) {\n",
       "    embed_document(root);\n",
       "  } else {\n",
       "    var attempts = 0;\n",
       "    var timer = setInterval(function(root) {\n",
       "      if (root.Bokeh !== undefined) {\n",
       "        clearInterval(timer);\n",
       "        embed_document(root);\n",
       "      } else {\n",
       "        attempts++;\n",
       "        if (attempts > 100) {\n",
       "          clearInterval(timer);\n",
       "          console.log(\"Bokeh: ERROR: Unable to run BokehJS code because BokehJS library is missing\");\n",
       "        }\n",
       "      }\n",
       "    }, 10, root)\n",
       "  }\n",
       "})(window);"
      ],
      "application/vnd.bokehjs_exec.v0+json": ""
     },
     "metadata": {
      "application/vnd.bokehjs_exec.v0+json": {
       "id": "1362"
      }
     },
     "output_type": "display_data"
    },
    {
     "data": {
      "text/html": [
       "\n",
       "\n",
       "\n",
       "\n",
       "\n",
       "\n",
       "  <div class=\"bk-root\" id=\"a79354dd-147d-499a-b09f-8805f68d7586\" data-root-id=\"1568\"></div>\n"
      ]
     },
     "metadata": {},
     "output_type": "display_data"
    },
    {
     "data": {
      "application/javascript": [
       "(function(root) {\n",
       "  function embed_document(root) {\n",
       "    \n",
       "  var docs_json = {\"d9530c93-d649-4761-bdff-787a73afc075\":{\"roots\":{\"references\":[{\"attributes\":{\"plot_height\":400,\"plot_width\":400,\"renderers\":[{\"id\":\"1573\",\"type\":\"GraphRenderer\"}],\"title\":{\"id\":\"1647\",\"type\":\"Title\"},\"toolbar\":{\"id\":\"1589\",\"type\":\"Toolbar\"},\"x_range\":{\"id\":\"1566\",\"type\":\"Range1d\"},\"x_scale\":{\"id\":\"1645\",\"type\":\"LinearScale\"},\"y_range\":{\"id\":\"1567\",\"type\":\"Range1d\"},\"y_scale\":{\"id\":\"1644\",\"type\":\"LinearScale\"}},\"id\":\"1568\",\"type\":\"Plot\"},{\"attributes\":{\"callback\":null,\"end\":1.1,\"start\":-1.1},\"id\":\"1567\",\"type\":\"Range1d\"},{\"attributes\":{},\"id\":\"1652\",\"type\":\"NodesOnly\"},{\"attributes\":{},\"id\":\"1660\",\"type\":\"UnionRenderers\"},{\"attributes\":{\"edge_renderer\":{\"id\":\"1580\",\"type\":\"GlyphRenderer\"},\"inspection_policy\":{\"id\":\"1657\",\"type\":\"NodesOnly\"},\"layout_provider\":{\"id\":\"1582\",\"type\":\"StaticLayoutProvider\"},\"node_renderer\":{\"id\":\"1576\",\"type\":\"GlyphRenderer\"},\"selection_policy\":{\"id\":\"1652\",\"type\":\"NodesOnly\"}},\"id\":\"1573\",\"type\":\"GraphRenderer\"},{\"attributes\":{\"text\":\"\"},\"id\":\"1647\",\"type\":\"Title\"},{\"attributes\":{\"data_source\":{\"id\":\"1575\",\"type\":\"ColumnDataSource\"},\"glyph\":{\"id\":\"1583\",\"type\":\"Circle\"},\"hover_glyph\":null,\"muted_glyph\":null,\"view\":{\"id\":\"1577\",\"type\":\"CDSView\"}},\"id\":\"1576\",\"type\":\"GlyphRenderer\"},{\"attributes\":{\"callback\":null,\"data\":{\"index\":[0,1,3,4,2],\"node_color\":[\"white\",\"green\",\"white\",\"white\",\"green\"]},\"selected\":{\"id\":\"1661\",\"type\":\"Selection\"},\"selection_policy\":{\"id\":\"1660\",\"type\":\"UnionRenderers\"}},\"id\":\"1575\",\"type\":\"ColumnDataSource\"},{\"attributes\":{},\"id\":\"1658\",\"type\":\"UnionRenderers\"},{\"attributes\":{},\"id\":\"1661\",\"type\":\"Selection\"},{\"attributes\":{},\"id\":\"1659\",\"type\":\"Selection\"},{\"attributes\":{\"fill_color\":{\"field\":\"node_color\"},\"size\":{\"units\":\"screen\",\"value\":15}},\"id\":\"1583\",\"type\":\"Circle\"},{\"attributes\":{\"callback\":null,\"data\":{\"edge_color\":[\"black\",\"black\",\"black\",\"black\",\"black\"],\"end\":[1,2,3,4,2],\"start\":[0,0,1,1,3]},\"selected\":{\"id\":\"1659\",\"type\":\"Selection\"},\"selection_policy\":{\"id\":\"1658\",\"type\":\"UnionRenderers\"}},\"id\":\"1579\",\"type\":\"ColumnDataSource\"},{\"attributes\":{\"source\":{\"id\":\"1575\",\"type\":\"ColumnDataSource\"}},\"id\":\"1577\",\"type\":\"CDSView\"},{\"attributes\":{},\"id\":\"1578\",\"type\":\"MultiLine\"},{\"attributes\":{},\"id\":\"1644\",\"type\":\"LinearScale\"},{\"attributes\":{\"callback\":null,\"end\":1.1,\"start\":-1.1},\"id\":\"1566\",\"type\":\"Range1d\"},{\"attributes\":{},\"id\":\"1645\",\"type\":\"LinearScale\"},{\"attributes\":{},\"id\":\"1657\",\"type\":\"NodesOnly\"},{\"attributes\":{\"data_source\":{\"id\":\"1579\",\"type\":\"ColumnDataSource\"},\"glyph\":{\"id\":\"1578\",\"type\":\"MultiLine\"},\"hover_glyph\":null,\"muted_glyph\":null,\"view\":{\"id\":\"1581\",\"type\":\"CDSView\"}},\"id\":\"1580\",\"type\":\"GlyphRenderer\"},{\"attributes\":{\"source\":{\"id\":\"1579\",\"type\":\"ColumnDataSource\"}},\"id\":\"1581\",\"type\":\"CDSView\"},{\"attributes\":{\"graph_layout\":{\"0\":[0.48673036769445827,-0.20858971633484022],\"1\":[-0.30197077386441934,-0.17616572872959085],\"2\":[0.7566369535400321,0.4407844155362793],\"3\":[0.058603452629928984,0.525496591067627],\"4\":[-1.0,-0.5815255615394752]}},\"id\":\"1582\",\"type\":\"StaticLayoutProvider\"},{\"attributes\":{\"callback\":null,\"tooltips\":[[\"index\",\"@index\"]]},\"id\":\"1588\",\"type\":\"HoverTool\"},{\"attributes\":{\"active_drag\":\"auto\",\"active_inspect\":\"auto\",\"active_multi\":null,\"active_scroll\":\"auto\",\"active_tap\":\"auto\",\"tools\":[{\"id\":\"1588\",\"type\":\"HoverTool\"}]},\"id\":\"1589\",\"type\":\"Toolbar\"}],\"root_ids\":[\"1568\"]},\"title\":\"Bokeh Application\",\"version\":\"1.4.0\"}};\n",
       "  var render_items = [{\"docid\":\"d9530c93-d649-4761-bdff-787a73afc075\",\"roots\":{\"1568\":\"a79354dd-147d-499a-b09f-8805f68d7586\"}}];\n",
       "  root.Bokeh.embed.embed_items_notebook(docs_json, render_items);\n",
       "\n",
       "  }\n",
       "  if (root.Bokeh !== undefined) {\n",
       "    embed_document(root);\n",
       "  } else {\n",
       "    var attempts = 0;\n",
       "    var timer = setInterval(function(root) {\n",
       "      if (root.Bokeh !== undefined) {\n",
       "        clearInterval(timer);\n",
       "        embed_document(root);\n",
       "      } else {\n",
       "        attempts++;\n",
       "        if (attempts > 100) {\n",
       "          clearInterval(timer);\n",
       "          console.log(\"Bokeh: ERROR: Unable to run BokehJS code because BokehJS library is missing\");\n",
       "        }\n",
       "      }\n",
       "    }, 10, root)\n",
       "  }\n",
       "})(window);"
      ],
      "application/vnd.bokehjs_exec.v0+json": ""
     },
     "metadata": {
      "application/vnd.bokehjs_exec.v0+json": {
       "id": "1568"
      }
     },
     "output_type": "display_data"
    },
    {
     "data": {
      "text/html": [
       "\n",
       "\n",
       "\n",
       "\n",
       "\n",
       "\n",
       "  <div class=\"bk-root\" id=\"bbbf6057-e6b6-4990-8ced-b220651f7a82\" data-root-id=\"1792\"></div>\n"
      ]
     },
     "metadata": {},
     "output_type": "display_data"
    },
    {
     "data": {
      "application/javascript": [
       "(function(root) {\n",
       "  function embed_document(root) {\n",
       "    \n",
       "  var docs_json = {\"d81cc242-1f59-493b-ab79-ed1a41bce891\":{\"roots\":{\"references\":[{\"attributes\":{\"plot_height\":400,\"plot_width\":400,\"renderers\":[{\"id\":\"1797\",\"type\":\"GraphRenderer\"}],\"title\":{\"id\":\"1889\",\"type\":\"Title\"},\"toolbar\":{\"id\":\"1813\",\"type\":\"Toolbar\"},\"x_range\":{\"id\":\"1790\",\"type\":\"Range1d\"},\"x_scale\":{\"id\":\"1887\",\"type\":\"LinearScale\"},\"y_range\":{\"id\":\"1791\",\"type\":\"Range1d\"},\"y_scale\":{\"id\":\"1886\",\"type\":\"LinearScale\"}},\"id\":\"1792\",\"type\":\"Plot\"},{\"attributes\":{\"callback\":null,\"tooltips\":[[\"index\",\"@index\"]]},\"id\":\"1812\",\"type\":\"HoverTool\"},{\"attributes\":{\"data_source\":{\"id\":\"1803\",\"type\":\"ColumnDataSource\"},\"glyph\":{\"id\":\"1802\",\"type\":\"MultiLine\"},\"hover_glyph\":null,\"muted_glyph\":null,\"view\":{\"id\":\"1805\",\"type\":\"CDSView\"}},\"id\":\"1804\",\"type\":\"GlyphRenderer\"},{\"attributes\":{},\"id\":\"1899\",\"type\":\"NodesOnly\"},{\"attributes\":{\"callback\":null,\"end\":1.1,\"start\":-1.1},\"id\":\"1791\",\"type\":\"Range1d\"},{\"attributes\":{},\"id\":\"1894\",\"type\":\"NodesOnly\"},{\"attributes\":{},\"id\":\"1901\",\"type\":\"Selection\"},{\"attributes\":{\"callback\":null,\"end\":1.1,\"start\":-1.1},\"id\":\"1790\",\"type\":\"Range1d\"},{\"attributes\":{\"source\":{\"id\":\"1799\",\"type\":\"ColumnDataSource\"}},\"id\":\"1801\",\"type\":\"CDSView\"},{\"attributes\":{\"callback\":null,\"data\":{\"index\":[0,1,3,4,2],\"node_color\":[\"green\",\"green\",\"white\",\"white\",\"white\"]},\"selected\":{\"id\":\"1903\",\"type\":\"Selection\"},\"selection_policy\":{\"id\":\"1902\",\"type\":\"UnionRenderers\"}},\"id\":\"1799\",\"type\":\"ColumnDataSource\"},{\"attributes\":{\"data_source\":{\"id\":\"1799\",\"type\":\"ColumnDataSource\"},\"glyph\":{\"id\":\"1807\",\"type\":\"Circle\"},\"hover_glyph\":null,\"muted_glyph\":null,\"view\":{\"id\":\"1801\",\"type\":\"CDSView\"}},\"id\":\"1800\",\"type\":\"GlyphRenderer\"},{\"attributes\":{},\"id\":\"1802\",\"type\":\"MultiLine\"},{\"attributes\":{\"active_drag\":\"auto\",\"active_inspect\":\"auto\",\"active_multi\":null,\"active_scroll\":\"auto\",\"active_tap\":\"auto\",\"tools\":[{\"id\":\"1812\",\"type\":\"HoverTool\"}]},\"id\":\"1813\",\"type\":\"Toolbar\"},{\"attributes\":{},\"id\":\"1903\",\"type\":\"Selection\"},{\"attributes\":{\"text\":\"\"},\"id\":\"1889\",\"type\":\"Title\"},{\"attributes\":{},\"id\":\"1900\",\"type\":\"UnionRenderers\"},{\"attributes\":{},\"id\":\"1886\",\"type\":\"LinearScale\"},{\"attributes\":{},\"id\":\"1887\",\"type\":\"LinearScale\"},{\"attributes\":{\"fill_color\":{\"field\":\"node_color\"},\"size\":{\"units\":\"screen\",\"value\":15}},\"id\":\"1807\",\"type\":\"Circle\"},{\"attributes\":{\"source\":{\"id\":\"1803\",\"type\":\"ColumnDataSource\"}},\"id\":\"1805\",\"type\":\"CDSView\"},{\"attributes\":{\"edge_renderer\":{\"id\":\"1804\",\"type\":\"GlyphRenderer\"},\"inspection_policy\":{\"id\":\"1899\",\"type\":\"NodesOnly\"},\"layout_provider\":{\"id\":\"1806\",\"type\":\"StaticLayoutProvider\"},\"node_renderer\":{\"id\":\"1800\",\"type\":\"GlyphRenderer\"},\"selection_policy\":{\"id\":\"1894\",\"type\":\"NodesOnly\"}},\"id\":\"1797\",\"type\":\"GraphRenderer\"},{\"attributes\":{\"callback\":null,\"data\":{\"edge_color\":[\"black\",\"black\",\"black\",\"black\",\"black\"],\"end\":[1,2,3,4,2],\"start\":[0,0,1,1,3]},\"selected\":{\"id\":\"1901\",\"type\":\"Selection\"},\"selection_policy\":{\"id\":\"1900\",\"type\":\"UnionRenderers\"}},\"id\":\"1803\",\"type\":\"ColumnDataSource\"},{\"attributes\":{\"graph_layout\":{\"0\":[0.23623889766247533,0.396746784195219],\"1\":[-0.2985699327397117,-0.028612513425370946],\"2\":[0.7550556503152983,0.07231400783565305],\"3\":[0.3072753847619375,-0.34472485467678576],\"4\":[-0.9999999999999999,-0.09572342392871548]}},\"id\":\"1806\",\"type\":\"StaticLayoutProvider\"},{\"attributes\":{},\"id\":\"1902\",\"type\":\"UnionRenderers\"}],\"root_ids\":[\"1792\"]},\"title\":\"Bokeh Application\",\"version\":\"1.4.0\"}};\n",
       "  var render_items = [{\"docid\":\"d81cc242-1f59-493b-ab79-ed1a41bce891\",\"roots\":{\"1792\":\"bbbf6057-e6b6-4990-8ced-b220651f7a82\"}}];\n",
       "  root.Bokeh.embed.embed_items_notebook(docs_json, render_items);\n",
       "\n",
       "  }\n",
       "  if (root.Bokeh !== undefined) {\n",
       "    embed_document(root);\n",
       "  } else {\n",
       "    var attempts = 0;\n",
       "    var timer = setInterval(function(root) {\n",
       "      if (root.Bokeh !== undefined) {\n",
       "        clearInterval(timer);\n",
       "        embed_document(root);\n",
       "      } else {\n",
       "        attempts++;\n",
       "        if (attempts > 100) {\n",
       "          clearInterval(timer);\n",
       "          console.log(\"Bokeh: ERROR: Unable to run BokehJS code because BokehJS library is missing\");\n",
       "        }\n",
       "      }\n",
       "    }, 10, root)\n",
       "  }\n",
       "})(window);"
      ],
      "application/vnd.bokehjs_exec.v0+json": ""
     },
     "metadata": {
      "application/vnd.bokehjs_exec.v0+json": {
       "id": "1792"
      }
     },
     "output_type": "display_data"
    }
   ],
   "source": [
    "for sol in solutions:\n",
    "    plot = get_plot(test_graph, color_nodes=sol)\n",
    "    show(plot)"
   ]
  },
  {
   "cell_type": "code",
   "execution_count": null,
   "metadata": {},
   "outputs": [],
   "source": []
  },
  {
   "cell_type": "code",
   "execution_count": null,
   "metadata": {},
   "outputs": [],
   "source": []
  }
 ],
 "metadata": {
  "kernelspec": {
   "display_name": "Python 3",
   "language": "python",
   "name": "python3"
  },
  "language_info": {
   "codemirror_mode": {
    "name": "ipython",
    "version": 3
   },
   "file_extension": ".py",
   "mimetype": "text/x-python",
   "name": "python",
   "nbconvert_exporter": "python",
   "pygments_lexer": "ipython3",
   "version": "3.8.3"
  }
 },
 "nbformat": 4,
 "nbformat_minor": 2
}
