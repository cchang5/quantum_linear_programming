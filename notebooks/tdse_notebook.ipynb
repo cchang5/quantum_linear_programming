{
 "cells": [
  {
   "cell_type": "markdown",
   "metadata": {},
   "source": [
    "# imports"
   ]
  },
  {
   "cell_type": "code",
   "execution_count": 7,
   "metadata": {},
   "outputs": [],
   "source": [
    "import os\n",
    "\n",
    "os.environ[\"DJANGO_ALLOW_ASYNC_UNSAFE\"] = \"true\"\n",
    "\n",
    "import numpy as np\n",
    "import matplotlib.pyplot as plt\n",
    "import matplotlib as mpl\n",
    "\n",
    "mpl.pyplot.ion()\n",
    "%matplotlib inline\n",
    "import pickle\n",
    "\n",
    "from qlp.mds import graph_tools as gt\n",
    "from qlp.mds.qubo import get_mds_qubo\n",
    "from qlp.mds.mds_qlpdb import QUBO_to_Ising, graph_summary\n",
    "from dimod import qubo_to_ising\n",
    "\n",
    "from qlp.tdse import TDSE, embed_qubo_example, convert_params\n",
    "\n",
    "from qlpdb.tdse.models import Tdse\n",
    "from qlp.mds.mds_qlpdb import AnnealOffset\n",
    "\n",
    "import time"
   ]
  },
  {
   "cell_type": "markdown",
   "metadata": {},
   "source": [
    "# Setup"
   ]
  },
  {
   "cell_type": "markdown",
   "metadata": {},
   "source": [
    "## Graph specific parameters "
   ]
  },
  {
   "cell_type": "markdown",
   "metadata": {},
   "source": [
    "Creates a line graph `o-o-o-...-o`"
   ]
  },
  {
   "cell_type": "code",
   "execution_count": 8,
   "metadata": {},
   "outputs": [],
   "source": [
    "nvertices = 2\n",
    "graph, tag = gt.generate_nn_graph(nvertices)\n",
    "directed = False"
   ]
  },
  {
   "cell_type": "markdown",
   "metadata": {},
   "source": [
    "## ILP / QUBO setup"
   ]
  },
  {
   "cell_type": "markdown",
   "metadata": {},
   "source": [
    "Initializes the Qubo for the Minimum Dominating Set problem"
   ]
  },
  {
   "cell_type": "code",
   "execution_count": 9,
   "metadata": {},
   "outputs": [
    {
     "name": "stdout",
     "output_type": "stream",
     "text": [
      "[[-3.0, 8.0, -4.0, -4.0], [0.0, -3.0, -4.0, -4.0], [0.0, 0.0, 6.0, 0.0], [0.0, 0.0, 0.0, 6.0]]\n"
     ]
    }
   ],
   "source": [
    "penalty = 2\n",
    "qubo = get_mds_qubo(\n",
    "    graph, directed=directed, penalty=penalty, triangularize=True, dtype=\"d\"\n",
    ")\n",
    "qubo_constant = penalty * nvertices\n",
    "\n",
    "print(qubo.todense().tolist())"
   ]
  },
  {
   "cell_type": "markdown",
   "metadata": {},
   "source": [
    "## Set up ising model"
   ]
  },
  {
   "cell_type": "markdown",
   "metadata": {},
   "source": [
    "Computes the corresponding Ising model parameters for the QUBO\n",
    "\n",
    "**if embed is True:** \n",
    "    This embeds the QUBO into a chimera graph. Currently there is only an explicit result from G(2). I will in the future actually embed with DWave minorminer."
   ]
  },
  {
   "cell_type": "code",
   "execution_count": 11,
   "metadata": {},
   "outputs": [
    {
     "name": "stdout",
     "output_type": "stream",
     "text": [
      "{'tag': 'NN(2)', 'total_vertices': 2, 'total_edges': 1, 'total_qubits': 4, 'max_edges': 1, 'adjacency': [[0, 1]], 'adjacency_hash': '2864ee150babb3f03de5e76a1733df4b'}\n",
      "[[-3.0, 8.0, -4.0, -4.0], [0.0, -3.0, -4.0, -4.0], [0.0, 0.0, 6.0, 0.0], [0.0, 0.0, 0.0, 6.0]]\n",
      "[[ 0.  2. -1. -1.]\n",
      " [ 0.  0. -1. -1.]\n",
      " [ 0.  0.  0.  0.]\n",
      " [ 0.  0.  0.  0.]]\n",
      "[ 1.5  1.5 -1.  -1. ]\n"
     ]
    }
   ],
   "source": [
    "embed = False  # nvertices = [2, 3] available\n",
    "embedding = None\n",
    "\n",
    "if embed:\n",
    "    # read embedded qubo\n",
    "    qubo, embedding = embed_qubo_example(nvertices)\n",
    "\n",
    "Jij, hi, c = QUBO_to_Ising(qubo.todense().tolist())\n",
    "hi_for_offset = hi\n",
    "\n",
    "graph_params = graph_summary(tag, graph, qubo)\n",
    "print(graph_params)\n",
    "print(qubo.todense().tolist())\n",
    "print(Jij)\n",
    "print(hi)"
   ]
  },
  {
   "cell_type": "markdown",
   "metadata": {},
   "source": [
    "## Anneal specific parameters"
   ]
  },
  {
   "cell_type": "markdown",
   "metadata": {},
   "source": [
    "Parameters which are related to converting physical unites to unitless units\n",
    "\n",
    "* **annealing_time:** Annealing time as defined from s = [0, 1] in microseconds\n",
    "* **normalized_time:** This is s. Set it to < 0 or > 1 if offset is used to allow for a complete annealing schedule. The total time in microseconds will increase accordingly.\n",
    "* **energyscale:** Converts units from D-Wave parameters to unitless parameters (see eq. 65 in the notes)"
   ]
  },
  {
   "cell_type": "code",
   "execution_count": 5,
   "metadata": {},
   "outputs": [
    {
     "name": "stdout",
     "output_type": "stream",
     "text": [
      "{'Jij': [[0.0, 0.0, -1.0, -4.0, -1.0], [0.0, 0.0, -1.0, 2.0, -1.0], [0.0, 0.0, 0.0, 0.0, 0.0], [0.0, 0.0, 0.0, 0.0, 0.0], [0.0, 0.0, 0.0, 0.0, 0.0]], 'hi': [2.75, 1.5, -1.0, -1.25, -1.0], 'c': 5.0, 'energyscale': 10.0, 'qubo_constant': 4, 'penalty': 2}\n"
     ]
    }
   ],
   "source": [
    "annealing_time = 0.01\n",
    "normalized_time = [0, 1]  # make larger range for complete offsets\n",
    "\n",
    "# assume annealing_time unit in microsecond and energy unit in Ghz\n",
    "def energyscaleconversion(annealing_time):\n",
    "    return annealing_time * 1000.0 #* (2.0 * np.pi)\n",
    "\n",
    "\n",
    "energyscale = energyscaleconversion(annealing_time)\n",
    "ising_params = {\n",
    "    \"Jij\": [list(row) for row in Jij],\n",
    "    \"hi\": list(hi),\n",
    "    \"c\": c,\n",
    "    \"energyscale\": energyscale,\n",
    "    \"qubo_constant\": qubo_constant,\n",
    "    \"penalty\": penalty,\n",
    "}\n",
    "print(ising_params)"
   ]
  },
  {
   "cell_type": "markdown",
   "metadata": {},
   "source": [
    "## Anneal curve specific parameters"
   ]
  },
  {
   "cell_type": "markdown",
   "metadata": {},
   "source": [
    "Parameters which specify how the anneal curve is realized:\n",
    "\n",
    "* **offset:** This is a string argument to the fcn method of the class AnnealOffset in qlp.mds.mds_qlpdb. Define your own anneal offset routine here or call\n",
    "an existing one. E-mail me if you need more explanation.\n",
    "* **offset_min, offset_range:** Argument to AnnealOffset class. Specify offset boundaries and are set later in a loop.\n",
    "* **anneal_curve:** The realized curve. Currently implemented are linear, logistic and d-wave.\n",
    "* **fill_value:** If normalized_time is extended beyond (0, 1), this option decides whether to extrapolate the anneal schedule, or truncate it at the nearest value."
   ]
  },
  {
   "cell_type": "code",
   "execution_count": 6,
   "metadata": {},
   "outputs": [],
   "source": [
    "offset = \"single_sided_binary\"\n",
    "anneal_curve = \"dwave\"\n",
    "fill_value = \"extrapolate\""
   ]
  },
  {
   "cell_type": "markdown",
   "metadata": {},
   "source": [
    "## Parameters for numerical solve of ODE"
   ]
  },
  {
   "cell_type": "markdown",
   "metadata": {},
   "source": [
    "Parameters to solve the ODE. See also `scipy.integrate.solve_ivp`."
   ]
  },
  {
   "cell_type": "code",
   "execution_count": 7,
   "metadata": {},
   "outputs": [],
   "source": [
    "solver_params = dict()\n",
    "solver_params[\"method\"] = \"RK45\"\n",
    "solver_params[\"rtol\"] = 1e-7\n",
    "solver_params[\"atol\"] = 1e-8"
   ]
  },
  {
   "cell_type": "markdown",
   "metadata": {},
   "source": [
    "## System parameters"
   ]
  },
  {
   "cell_type": "markdown",
   "metadata": {},
   "source": [
    "Parameters used to specify the initial conditions of the system:\n",
    "\n",
    "* **pure_tdse:** This is a boolean (True / False) flag and runs the pure state solver.\n",
    "* **mixed_tdse:** This boolean flag runs the mixed state solver.\n",
    "* **temp:** This sets the temperature for the mixed state solver in kelvins.\n",
    "* **initial_wavefunction:** For the pure state solver, the initial wavefunc- tion can be chosen to be the ground state of ∑σx (transverse) or H(0)(real). For the DWave anneal schedule, or when annealing offsets are used without extended annealing times, these two options are not the same. Can be \"true\" or \"transverse\".\n"
   ]
  },
  {
   "cell_type": "code",
   "execution_count": 8,
   "metadata": {},
   "outputs": [],
   "source": [
    "initial_wavefunction = \"transverse\"\n",
    "\n",
    "pure_tdse = False\n",
    "\n",
    "mixed_tdse = True\n",
    "temp = 0.0015\n",
    "temp_local = 0.0015\n",
    "gamma = 0 #1/1 # 1/ns for full counting statistics\n",
    "gamma_local = 0 #1/100 # for local decoherence"
   ]
  },
  {
   "cell_type": "markdown",
   "metadata": {},
   "source": [
    "## Output parameters"
   ]
  },
  {
   "cell_type": "markdown",
   "metadata": {},
   "source": [
    "Parameters used for visializing results:\n",
    "* **degeneracy_tol:** This sets the numerical tolerance as to when an excited- state is labeled as degenerate to the ground state. This is important for graphs with degenerate ground states.\n",
    "* **debug:** Write more output during computations.\n",
    "* **save_result:** Store results to pickle files. "
   ]
  },
  {
   "cell_type": "code",
   "execution_count": 9,
   "metadata": {},
   "outputs": [],
   "source": [
    "degeneracy_tol = 2e-2\n",
    "debug = True\n",
    "save_result = False\n",
    "skip_db = True"
   ]
  },
  {
   "cell_type": "markdown",
   "metadata": {},
   "source": [
    "# Run computations"
   ]
  },
  {
   "cell_type": "markdown",
   "metadata": {},
   "source": [
    "In this section we run over different anneal time offsets"
   ]
  },
  {
   "cell_type": "code",
   "execution_count": 10,
   "metadata": {
    "scrolled": false
   },
   "outputs": [
    {
     "name": "stdout",
     "output_type": "stream",
     "text": [
      "offset -0.05\n",
      "From find offset\n",
      "[0, -0.05, -0.05, -0.05, -0.05]\n",
      "anneal schedule from ./09-1216A-A_DW_2000Q_6_annealing_schedule.xlsx\n",
      "Init TDSE: 2.718640089035034 seconds\n"
     ]
    },
    {
     "data": {
      "image/png": "[encoded data removed]",
      "text/plain": [
       "<Figure size 432x288 with 1 Axes>"
      ]
     },
     "metadata": {
      "needs_background": "light"
     },
     "output_type": "display_data"
    },
    {
     "name": "stdout",
     "output_type": "stream",
     "text": [
      "Ising ground state energy: -93.39661673400559\n",
      "Ising ground state\n",
      "18\n",
      "10010\n",
      "Ising ground state energy: -91.39488195091238\n",
      "Ising ground state\n",
      "8\n",
      "01000\n",
      "acdefbcdef->ab\n",
      "entropy param 1 acdefbcdef->ab\n",
      "mixed measurement not in db\n",
      "dE [  0.          19.931758    21.60123128  21.60123128  21.60123128\n",
      "  21.60123128  41.53298928  41.53298928  41.53298928  41.53298928\n",
      "  43.20246257  43.20246257  43.20246257  43.20246257  43.20246257\n",
      "  43.20246257  63.13422057  63.13422057  63.13422057  63.13422057\n",
      "  63.13422057  63.13422057  64.80369385  64.80369385  64.80369385\n",
      "  64.80369385  84.73545185  84.73545185  84.73545185  84.73545185\n",
      "  86.40492514 106.33668314]\n",
      "pr [1.00000000e+000 8.33719594e-045 1.69429275e-048 1.69429275e-048\n",
      " 1.69429275e-048 1.69429275e-048 1.41256506e-092 1.41256506e-092\n",
      " 1.41256506e-092 1.41256506e-092 2.87062791e-096 2.87062791e-096\n",
      " 2.87062791e-096 2.87062791e-096 2.87062791e-096 2.87062791e-096\n",
      " 2.39329873e-140 2.39329873e-140 2.39329873e-140 2.39329873e-140\n",
      " 2.39329873e-140 2.39329873e-140 4.86368404e-144 4.86368404e-144\n",
      " 4.86368404e-144 4.86368404e-144 4.05494868e-188 4.05494868e-188\n",
      " 4.05494868e-188 4.05494868e-188 8.24050460e-192 6.87027014e-236] total 1.0\n",
      "Initial wavefunction: [0.03125+0.j 0.03125+0.j 0.03125+0.j ... 0.03125+0.j 0.03125+0.j\n",
      " 0.03125+0.j]\n",
      "von Neumann solve: 16.557814121246338 seconds\n",
      "Num. degenerate states @ s=1: 2\n",
      "Mixed Final Prob: 0.6619364570165107\n",
      "hi is [2.75, 1.5, -1.0, -1.25, -1.0]\n",
      "final state 10010\n"
     ]
    },
    {
     "data": {
      "image/png": "[encoded data removed]",
      "text/plain": [
       "<Figure size 432x288 with 1 Axes>"
      ]
     },
     "metadata": {
      "needs_background": "light"
     },
     "output_type": "display_data"
    },
    {
     "data": {
      "image/png": "[encoded data removed]",
      "text/plain": [
       "<Figure size 432x288 with 1 Axes>"
      ]
     },
     "metadata": {
      "needs_background": "light"
     },
     "output_type": "display_data"
    },
    {
     "data": {
      "image/png": "[encoded data removed]",
      "text/plain": [
       "<Figure size 432x288 with 1 Axes>"
      ]
     },
     "metadata": {
      "needs_background": "light"
     },
     "output_type": "display_data"
    },
    {
     "data": {
      "image/png": "[encoded data removed]",
      "text/plain": [
       "<Figure size 432x288 with 1 Axes>"
      ]
     },
     "metadata": {
      "needs_background": "light"
     },
     "output_type": "display_data"
    }
   ],
   "source": [
    "#%%timeit -n 1 -r 1\n",
    "\n",
    "# brute force solving time-dependent schrodinger equation to simulate quantum annealing for small systems\n",
    "result = dict()\n",
    "offset_min_list = [0.05]\n",
    "Aoffset = 0\n",
    "\n",
    "for offset_min in offset_min_list:\n",
    "    print(\"offset\", offset_min)\n",
    "    offset_min = offset_min\n",
    "    offset_range = abs(offset_min)\n",
    "\n",
    "    offset_params = {\n",
    "        \"annealing_time\": annealing_time,\n",
    "        \"normalized_time\": normalized_time,\n",
    "        \"offset\": offset,\n",
    "        \"hi_for_offset\": hi_for_offset,\n",
    "        \"embedding\": embedding,\n",
    "        \"offset_min\": offset_min,\n",
    "        \"offset_range\": offset_range,\n",
    "        \"fill_value\": fill_value,\n",
    "        \"anneal_curve\": anneal_curve,\n",
    "        \"Aoffset\": Aoffset\n",
    "    }\n",
    "\n",
    "    # instantiate ode solver\n",
    "    start = time.time()\n",
    "    tdse = TDSE(graph_params, ising_params, offset_params, solver_params)\n",
    "    end = time.time()\n",
    "    print(f\"Init TDSE: {end-start} seconds\")\n",
    "    \n",
    "    # plot anneal schedule\n",
    "    tdse.AS.plot(normalized_time)\n",
    "    \n",
    "    val,vec=np.linalg.eigh(tdse.IsingH.todense())\n",
    "    print('Ising ground state energy:',val[0])\n",
    "    print('Ising ground state')\n",
    "    #print(vec[:,0])\n",
    "    I=int(np.argmax(vec[:,0]))\n",
    "    print(I)\n",
    "    print('{0:05b}'.format(I))\n",
    "    print('Ising ground state energy:',val[1])\n",
    "    print('Ising ground state')\n",
    "    #print(vec[:,1])\n",
    "    I=int(np.argmax(vec[:,1]))\n",
    "    print(I)\n",
    "    print('{0:05b}'.format(I))\n",
    "    \n",
    "    # get offset list to get partition for entanglement entropy\n",
    "    nA, indicesA = tdse.find_partition()\n",
    "    print(\"entropy param\",nA,indicesA)\n",
    "    reg = 1e-10\n",
    "    entropy_params = {\"nA\": nA, \"indicesA\": indicesA, \"reg\": reg}\n",
    "    \n",
    "    ############################################################\n",
    "    ###### code block for thermal mixed state simultation ######\n",
    "    ############################################################\n",
    "    if mixed_tdse:\n",
    "        wave_params = dict()\n",
    "        wave_params[\"type\"] = \"mixed\"\n",
    "        wave_params[\"temp\"] = temp\n",
    "        wave_params[\"temp_local\"] = temp_local\n",
    "        wave_params[\"gamma\"] = gamma\n",
    "        wave_params[\"gamma_local\"] = gamma_local\n",
    "        wave_params[\"initial_wavefunction\"] = initial_wavefunction\n",
    "        if not skip_db:\n",
    "            query = Tdse.objects.filter(\n",
    "                graph__tag=graph_params[\"tag\"],\n",
    "                offset__contains=convert_params(offset_params),\n",
    "                ising__contains=convert_params(ising_params),\n",
    "                solver__contains=solver_params,\n",
    "                wave__contains=wave_params,\n",
    "            ).first()\n",
    "        else:\n",
    "            query = False\n",
    "        if not query:\n",
    "            print(\"mixed measurement not in db\")\n",
    "            # initial density matrix\n",
    "            rho = tdse.init_densitymatrix(temp, temp_local, initial_wavefunction, debug=debug)\n",
    "            rhodim=int(np.sqrt(len(rho)))\n",
    "            tdse.gamma=gamma\n",
    "            tdse.gamma_local=gamma_local\n",
    "            print(\"Initial wavefunction:\", rho)\n",
    "            # solve\n",
    "            start = time.time()\n",
    "            sol_densitymatrix = tdse.solve_mixed(rho)\n",
    "            end = time.time()\n",
    "            print(f\"von Neumann solve: {end-start} seconds\")\n",
    "            \n",
    "            # overlap with Ising ground state\n",
    "            gs_idx, Isingenergy, Isingeigv = tdse.ground_state_degeneracy(\n",
    "                tdse.IsingH_exact, degeneracy_tol, debug=debug\n",
    "            )\n",
    "            project = sum(\n",
    "                [\n",
    "                    np.kron(Isingeigv[:, idx], np.conj(Isingeigv[:, idx]))\n",
    "                    for idx in gs_idx\n",
    "                ]\n",
    "            )\n",
    "            prob = np.asarray(\n",
    "                [\n",
    "                    np.absolute((np.dot(np.conj(project), sol_densitymatrix.y[:, i])))\n",
    "                    for i in range(sol_densitymatrix.t.size)\n",
    "                ]\n",
    "            )\n",
    "            totalprob = np.asarray(\n",
    "                [\n",
    "                    np.absolute((np.trace(sol_densitymatrix.y[:, i].reshape((rhodim,rhodim)))))\n",
    "                    for i in range(sol_densitymatrix.t.size)\n",
    "                ]\n",
    "            )\n",
    "            \n",
    "            # save result to EspressoDB\n",
    "            query = tdse.summary(\n",
    "                wave_params=wave_params,\n",
    "                instance=tdse,\n",
    "                solution=sol_densitymatrix,\n",
    "                time=sol_densitymatrix.t,\n",
    "                probability=prob,\n",
    "                save = save_result,\n",
    "            )\n",
    "        # calculate entanglement entropy\n",
    "        # this example partion 4 qubits into A:(3,4) and B:(1,2)\n",
    "        with open(query.solution.path, \"rb\") as file:\n",
    "            sol = pickle.load(file)\n",
    "        entropy = np.asarray(\n",
    "            [\n",
    "                tdse.ent_entropy(sol.y[:, i], **entropy_params)\n",
    "                for i in range(sol.t.size)\n",
    "            ]\n",
    "        ).real\n",
    "        # plot entropy\n",
    "        plt.figure(\"mixed entropy\")\n",
    "        plt.plot(query.time, entropy)\n",
    "        plt.legend([\"ent entropy\"])\n",
    "        plt.title(\"mixed ent entropy\")\n",
    "\n",
    "        # plot overlap with Ising g.s.\n",
    "        plt.figure(\"mixed prob\")\n",
    "        plt.plot(query.time, query.prob)\n",
    "        plt.title(\"mixed probability\")\n",
    "        print(f\"Mixed Final Prob: {query.prob[-1]}\")\n",
    "        \n",
    "        # plot total probability.\n",
    "        plt.figure(\"total prob\")\n",
    "        plt.plot(query.time, totalprob)\n",
    "        plt.title(\"total probability\")\n",
    "\n",
    "        # check decoherence\n",
    "        print(\"hi is\",tdse.ising[\"hi\"])\n",
    "        finalstate=np.argmax(np.diagonal(sol_densitymatrix.y[:, -1].reshape((rhodim,rhodim))).real)\n",
    "        print(\"final state\",('{0:0'+str(len(tdse.ising[\"hi\"]))+'b}').format(finalstate))\n",
    "        \n",
    "        # check distribution\n",
    "        plt.figure(\"distribution\")\n",
    "        plt.plot(np.linspace(0,rhodim-1,rhodim), np.diagonal(sol_densitymatrix.y[:, -1].reshape((rhodim,rhodim))).real)\n",
    "        plt.title(\"distribution\")\n",
    "    ############################################################\n",
    "    ###### end of code block for thermal mixed state simultation ######\n",
    "    ############################################################\n",
    "\n",
    "    if pure_tdse:\n",
    "        wave_params = dict()\n",
    "        wave_params[\"type\"] = \"pure\"\n",
    "        wave_params[\"temp\"] = 0\n",
    "        wave_params[\"gamma\"] = 0\n",
    "        wave_params[\"initial_wavefunction\"] = initial_wavefunction\n",
    "        if not skip_db:\n",
    "            query = Tdse.objects.filter(\n",
    "                graph__tag=graph_params[\"tag\"],\n",
    "                offset__contains=convert_params(offset_params),\n",
    "                ising__contains=convert_params(ising_params),\n",
    "                solver__contains=solver_params,\n",
    "                wave__contains=wave_params,\n",
    "            ).first()\n",
    "        else:\n",
    "            query = False\n",
    "        \n",
    "        if not query:\n",
    "            print(\"pure measurement not in db\")\n",
    "            # Initial wavefunction\n",
    "            y1 = tdse.init_wavefunction(initial_wavefunction)\n",
    "    \n",
    "            # solve\n",
    "            start = time.time()\n",
    "            sol = tdse.solve_pure(y1, ngrid=2, debug=debug)\n",
    "            end = time.time()\n",
    "            print(f\"Schrodinger solve: {end-start} seconds\")\n",
    "            \n",
    "            # get ground state degeneracy\n",
    "            ground_state_idx, energy, eigv = tdse.ground_state_degeneracy(\n",
    "                tdse.IsingH, degeneracy_tol, debug=debug\n",
    "            )\n",
    "    \n",
    "            # calculate probability overlap with Ising ground state\n",
    "            prob = [tdse.calculate_overlap(eigv, sol.y[:, i], ground_state_idx) for i in range(sol.t.size)]\n",
    "            plt.plot(sol.t, prob) # plot prob\n",
    "    \n",
    "            query = tdse.summary(\n",
    "                wave_params=wave_params,\n",
    "                instance=tdse,\n",
    "                solution=sol,\n",
    "                time=sol.t,\n",
    "                probability=prob,\n",
    "                save = save_result,\n",
    "            )\n",
    "        # calculate entropy\n",
    "        with open(query.solution.path, \"rb\") as file:\n",
    "            sol = pickle.load(file)\n",
    "        entropy = np.asarray(\n",
    "                [\n",
    "                    tdse.ent_entropy(np.kron(sol.y[:, i], np.conj(sol.y[:, i])), nA, indicesA, reg)\n",
    "                    for i in range(sol.t.size)\n",
    "                ]\n",
    "            ).real\n",
    "        # plot entropy\n",
    "        plt.figure(\"pure entropy\")\n",
    "        plt.plot(query.time, entropy)\n",
    "        plt.legend([\"ent entropy\"])\n",
    "        plt.title(\"pure ent entropy\")\n",
    "        # plot overlap with Ising g.s.\n",
    "        plt.figure(\"pure probability\")\n",
    "        plt.plot(query.time, query.prob)\n",
    "        plt.title(\"pure probability\")\n",
    "        print(f\"Pure Final Prob: {query.prob[-1]}\")"
   ]
  },
  {
   "cell_type": "code",
   "execution_count": 11,
   "metadata": {},
   "outputs": [
    {
     "name": "stdout",
     "output_type": "stream",
     "text": [
      "offset 0.0\n",
      "From find offset\n",
      "[-0.0, 0, 0, 0, 0]\n",
      "anneal schedule from ./09-1216A-A_DW_2000Q_6_annealing_schedule.xlsx\n"
     ]
    }
   ],
   "source": [
    "#%%timeit -n 1 -r 1\n",
    "\n",
    "# brute force solving time-dependent schrodinger equation to simulate quantum annealing for small systems\n",
    "result = dict()\n",
    "offset_min_list = [0.0]\n",
    "Aoffset = 0\n",
    "\n",
    "for offset_min in offset_min_list:\n",
    "    print(\"offset\", offset_min)\n",
    "    offset_min = offset_min\n",
    "    offset_range = abs(offset_min)\n",
    "\n",
    "    offset_params = {\n",
    "        \"annealing_time\": annealing_time,\n",
    "        \"normalized_time\": normalized_time,\n",
    "        \"offset\": offset,\n",
    "        \"hi_for_offset\": hi_for_offset,\n",
    "        \"embedding\": embedding,\n",
    "        \"offset_min\": offset_min,\n",
    "        \"offset_range\": offset_range,\n",
    "        \"fill_value\": fill_value,\n",
    "        \"anneal_curve\": anneal_curve,\n",
    "        \"Aoffset\": Aoffset\n",
    "    }\n",
    "\n",
    "    # instantiate ode solver\n",
    "    start = time.time()\n",
    "    tdse1 = TDSE(graph_params, ising_params, offset_params, solver_params)\n",
    "    end = time.time()"
   ]
  },
  {
   "cell_type": "code",
   "execution_count": 12,
   "metadata": {},
   "outputs": [
    {
     "name": "stdout",
     "output_type": "stream",
     "text": [
      "offset 0.05\n",
      "From find offset\n",
      "[-0.05, 0, 0, 0, 0]\n",
      "anneal schedule from ./09-1216A-A_DW_2000Q_6_annealing_schedule.xlsx\n"
     ]
    }
   ],
   "source": [
    "#%%timeit -n 1 -r 1\n",
    "\n",
    "# brute force solving time-dependent schrodinger equation to simulate quantum annealing for small systems\n",
    "result = dict()\n",
    "offset_min_list = [0.05]\n",
    "Aoffset = 0\n",
    "\n",
    "for offset_min in offset_min_list:\n",
    "    print(\"offset\", offset_min)\n",
    "    offset_min = offset_min\n",
    "    offset_range = abs(offset_min)\n",
    "\n",
    "    offset_params = {\n",
    "        \"annealing_time\": annealing_time,\n",
    "        \"normalized_time\": normalized_time,\n",
    "        \"offset\": offset,\n",
    "        \"hi_for_offset\": hi_for_offset,\n",
    "        \"embedding\": embedding,\n",
    "        \"offset_min\": offset_min,\n",
    "        \"offset_range\": offset_range,\n",
    "        \"fill_value\": fill_value,\n",
    "        \"anneal_curve\": anneal_curve,\n",
    "        \"Aoffset\": Aoffset\n",
    "    }\n",
    "\n",
    "    # instantiate ode solver\n",
    "    start = time.time()\n",
    "    tdse2 = TDSE(graph_params, ising_params, offset_params, solver_params)\n",
    "    end = time.time()"
   ]
  },
  {
   "cell_type": "code",
   "execution_count": 13,
   "metadata": {
    "scrolled": false
   },
   "outputs": [
    {
     "name": "stdout",
     "output_type": "stream",
     "text": [
      "Y\n",
      "ground state energy: -93.39661673400556\n",
      "1st ex state energy: -91.39488195091243\n",
      "ground state eigvec: [ 0.+0.j  0.+0.j  0.+0.j  0.+0.j  0.+0.j -0.+0.j -0.+0.j -0.+0.j -0.+0.j\n",
      " -0.+0.j  1.+0.j -0.+0.j  0.+0.j  0.+0.j -0.+0.j -0.+0.j  0.+0.j -0.+0.j\n",
      " -0.+0.j  0.+0.j -0.+0.j  0.+0.j  0.+0.j  0.+0.j -0.+0.j  0.+0.j -0.+0.j\n",
      " -0.+0.j  0.+0.j -0.+0.j  0.+0.j -0.+0.j]\n",
      "1st ex state eigvec: [ 0.+0.j  0.+0.j  0.+0.j  0.+0.j  0.+0.j  0.+0.j -0.+0.j -0.+0.j  0.+0.j\n",
      " -0.+0.j  0.+0.j -0.+0.j  0.+0.j  0.+0.j  0.+0.j  0.+0.j  0.+0.j  1.+0.j\n",
      " -1.+0.j  0.+0.j  0.+0.j -0.+0.j -0.+0.j -0.+0.j -0.+0.j -0.+0.j  0.+0.j\n",
      "  0.+0.j -0.+0.j -0.+0.j  0.+0.j  0.+0.j]\n",
      "start gap energy (Kelvins): 0.9555151388609286\n",
      "min gap energy (Kelvins): 0.14837251820468167\n",
      "adiabatic condition (ns): 0.15969451496891596\n",
      "Y1\n",
      "ground state energy: -95.81744000000002\n",
      "1st ex state energy: -95.81743999999996\n",
      "ground state eigvec: [-0.+0.j  0.+0.j  0.+0.j  0.+0.j  0.+0.j -0.+0.j  0.+0.j  0.+0.j  0.+0.j\n",
      " -0.+0.j -1.+0.j  0.+0.j  0.+0.j  0.+0.j  0.+0.j  0.+0.j -0.+0.j -0.+0.j\n",
      " -0.+0.j -0.+0.j  0.+0.j -0.+0.j -0.+0.j -0.+0.j -0.+0.j  0.+0.j -0.+0.j\n",
      "  0.+0.j  0.+0.j  0.+0.j -0.+0.j -0.+0.j]\n",
      "1st ex state eigvec: [ 0.+0.j  0.+0.j -0.+0.j  0.+0.j -0.+0.j  0.+0.j -0.+0.j -0.+0.j  0.+0.j\n",
      " -0.+0.j -0.+0.j -0.+0.j -0.+0.j  0.+0.j  0.+0.j  0.+0.j  0.+0.j  1.+0.j\n",
      " -1.+0.j  0.+0.j -0.+0.j -0.+0.j  0.+0.j  0.+0.j -0.+0.j -0.+0.j  0.+0.j\n",
      " -0.+0.j -0.+0.j  0.+0.j  0.+0.j  0.+0.j]\n",
      "start gap energy (Kelvins): 0.9430470136794062\n",
      "min gap energy (Kelvins): 0.11823077570226963\n",
      "adiabatic condition (ns): 0.3474543037296829\n",
      "Y2\n",
      "ground state energy: -95.65474957425586\n",
      "1st ex state energy: -93.68060790889518\n",
      "ground state eigvec: [ 0.+0.j -0.+0.j -0.+0.j -0.+0.j  0.+0.j  0.+0.j -0.+0.j -0.+0.j  1.+0.j\n",
      "  0.+0.j -0.+0.j -0.+0.j -0.+0.j  0.+0.j -0.+0.j -0.+0.j  0.+0.j -0.+0.j\n",
      " -0.+0.j  0.+0.j  0.+0.j  0.+0.j -0.+0.j  0.+0.j -0.+0.j  0.+0.j  0.+0.j\n",
      " -0.+0.j  0.+0.j  0.+0.j  0.+0.j -0.+0.j]\n",
      "1st ex state eigvec: [ 0.+0.j  0.+0.j -0.+0.j  0.+0.j -0.+0.j -0.+0.j  0.+0.j  0.+0.j  0.+0.j\n",
      " -0.+0.j -0.+0.j -0.+0.j -0.+0.j  0.+0.j  0.+0.j  0.+0.j -0.+0.j  1.+0.j\n",
      " -1.+0.j -0.+0.j  0.+0.j -0.+0.j  0.+0.j -0.+0.j  0.+0.j -0.+0.j -0.+0.j\n",
      "  0.+0.j -0.+0.j -0.+0.j  0.+0.j  0.+0.j]\n",
      "start gap energy (Kelvins): 0.9490264868346554\n",
      "min gap energy (Kelvins): 0.22410973648178933\n",
      "adiabatic condition (ns): 0.1324348460904937\n"
     ]
    },
    {
     "data": {
      "text/plain": [
       "<ErrorbarContainer object of 3 artists>"
      ]
     },
     "execution_count": 13,
     "metadata": {},
     "output_type": "execute_result"
    },
    {
     "data": {
      "image/png": "[encoded data removed]",
      "text/plain": [
       "<Figure size 504x576 with 3 Axes>"
      ]
     },
     "metadata": {
      "needs_background": "light"
     },
     "output_type": "display_data"
    },
    {
     "data": {
      "image/png": "[encoded data removed]",
      "text/plain": [
       "<Figure size 432x288 with 1 Axes>"
      ]
     },
     "metadata": {
      "needs_background": "light"
     },
     "output_type": "display_data"
    }
   ],
   "source": [
    "### from scipy.sparse.linalg import eigsh \n",
    "from numpy.linalg import eigh\n",
    "\n",
    "red = \"#c82506\"\n",
    "green = \"#70b741\"\n",
    "blue = \"#51a7f9\"\n",
    "linestyle = [\"solid\", \"solid\", \"solid\", \"solid\"]\n",
    "\n",
    "\n",
    "# plot spectrum\n",
    "try:\n",
    "    with open(query.instance.path, \"rb\") as file:\n",
    "        tdse = pickle.load(file)\n",
    "except:\n",
    "    tdse = tdse\n",
    "normalized_time = tdse.offset[\"normalized_time\"]\n",
    "\n",
    "num_es = 4\n",
    "# unit conversion\n",
    "# sol.y = [GHz / h]\n",
    "\n",
    "fig = plt.figure(figsize=(7,8))\n",
    "height = 0.3\n",
    "top = 0.98\n",
    "ax0 = plt.axes([0.15, top - height, 0.8, height])\n",
    "ax1 = plt.axes([0.15, top - height*2, 0.8, height])\n",
    "ax2 = plt.axes([0.15, top - height*3, 0.8, height])\n",
    "\n",
    "gap = dict()\n",
    "\n",
    "starttime = 0\n",
    "\n",
    "x = []\n",
    "y = {es: [] for es in range(num_es)}\n",
    "V = []\n",
    "tdse.ising[\"energyscale\"] = 1 # Hamiltonian = 1 ns^-1\n",
    "for s in np.linspace(starttime, normalized_time[1], 100):\n",
    "    eigval, eigvec = eigh((tdse.annealingH(s)).toarray())\n",
    "    x.append(s)\n",
    "    for es in y.keys():\n",
    "        y[es].append(eigval[es])\n",
    "    Vi = np.einsum('ij,j->i', tdse.annealingH(s).todense(), eigvec[2])\n",
    "    Vi = abs(np.einsum('i,i', eigvec[0], Vi).real)\n",
    "    V.append(Vi)\n",
    "    \n",
    "x1 = []\n",
    "y1 = {es: [] for es in range(num_es)}\n",
    "V1 = []\n",
    "tdse1.ising[\"energyscale\"] = 1\n",
    "for s in np.linspace(starttime, normalized_time[1], 100):\n",
    "    eigval1, eigvec1 = eigh((tdse1.annealingH(s)).toarray())\n",
    "    x1.append(s)\n",
    "    for es in y1.keys():\n",
    "        y1[es].append(eigval1[es])\n",
    "    Vi = np.einsum('ij,j->i', tdse1.annealingH(s).todense(), eigvec1[2])\n",
    "    Vi = abs(np.einsum('i,i', eigvec1[0], Vi).real)\n",
    "    V1.append(Vi)\n",
    "\n",
    "x2 = []\n",
    "y2 = {es: [] for es in range(num_es)}\n",
    "V2 = []\n",
    "tdse2.ising[\"energyscale\"] = 1\n",
    "for s in np.linspace(starttime, normalized_time[1], 100):\n",
    "    eigval2, eigvec2 = eigh((tdse2.annealingH(s)).toarray())\n",
    "    x2.append(s)\n",
    "    for es in y2.keys():\n",
    "        y2[es].append(eigval2[es])\n",
    "    Vi = np.einsum('ij,j->i', tdse2.annealingH(s).todense(), eigvec2[2])\n",
    "    Vi = abs(np.einsum('i,i', eigvec2[0], Vi).real)\n",
    "    V2.append(Vi)\n",
    "    \n",
    "for idx, es in enumerate(y.keys()):\n",
    "    ax0.errorbar(x=x, y=y[es], color=red, ls=linestyle[idx])\n",
    "for idx, es in enumerate(y1.keys()):\n",
    "    ax1.errorbar(x=x1, y=y1[es], color=green, ls=linestyle[idx])\n",
    "for idx, es in enumerate(y1.keys()):\n",
    "    ax2.errorbar(x=x2, y=y2[es], color=blue, ls=linestyle[idx])\n",
    "    \n",
    "gap = {es: np.array(y[es]) - np.array(y[0]) for es in y.keys()}\n",
    "ax2.set_xlabel(\"normalized time\")\n",
    "ax1.set_ylabel(\"energy (GHz)\")\n",
    "ax0.text(0.95, 0.13, \"-10% offset\", horizontalalignment=\"right\", transform=ax0.transAxes)\n",
    "ax1.text(0.95, 0.13, \"0% offset\", horizontalalignment=\"right\", transform=ax1.transAxes)\n",
    "ax2.text(0.95, 0.13, \"10% offset\", horizontalalignment=\"right\", transform=ax2.transAxes)\n",
    "ax0.set_xlim([0, 1])\n",
    "ax1.set_xlim([0, 1])\n",
    "ax2.set_xlim([0, 1])\n",
    "ax0.get_xaxis().set_ticks([])\n",
    "ax1.get_xaxis().set_ticks([])\n",
    "\n",
    "plt.draw()\n",
    "plt.savefig(\"../paper/figures/spectrum_all.pdf\", transparent=True)\n",
    "print(\"Y\")\n",
    "print(\"ground state energy:\", y[0][-1])\n",
    "print(\"1st ex state energy:\", y[1][-1])\n",
    "eigval, eigvec = eigh((tdse.annealingH(s)).toarray())\n",
    "print(\"ground state eigvec:\", np.round(eigvec[0]))\n",
    "print(\"1st ex state eigvec:\", np.round(eigvec[1]))\n",
    "kb = 8.617333262145E-5 #eV⋅K−1\n",
    "h = 4.135667696E-15 #eV⋅s\n",
    "h_kb = h/kb # K*s\n",
    "print(\"start gap energy (Kelvins):\", (y[1][0] - y[0][0])*1E9*h_kb)\n",
    "gap = np.array(y[2]) - np.array(y[0])\n",
    "mingap = min(gap)\n",
    "print(\"min gap energy (Kelvins):\", mingap*1E9*h_kb)\n",
    "# calculate adiabatic condition V/gap^2\n",
    "scale = V/(gap)**2\n",
    "print(\"adiabatic condition (ns):\", max(V/(gap)**2))\n",
    "\n",
    "print(\"Y1\")\n",
    "print(\"ground state energy:\", y1[0][-1])\n",
    "print(\"1st ex state energy:\", y1[1][-1])\n",
    "eigval, eigvec = eigh((tdse1.annealingH(s)).toarray())\n",
    "print(\"ground state eigvec:\", np.round(eigvec[0]))\n",
    "print(\"1st ex state eigvec:\", np.round(eigvec[1]))\n",
    "print(\"start gap energy (Kelvins):\", (y1[1][0] - y1[0][0])*1E9*h_kb)\n",
    "gap = np.array(y1[2]) - np.array(y1[0])\n",
    "mingap = min(gap)\n",
    "print(\"min gap energy (Kelvins):\", mingap*1E9*h_kb)\n",
    "# calculate adiabatic condition V/gap^2\n",
    "scale = V1/(gap)**2\n",
    "print(\"adiabatic condition (ns):\", max(V1/(gap)**2))\n",
    "\n",
    "print(\"Y2\")\n",
    "print(\"ground state energy:\", y2[0][-1])\n",
    "print(\"1st ex state energy:\", y2[1][-1])\n",
    "eigval, eigvec = eigh((tdse2.annealingH(s)).toarray())\n",
    "print(\"ground state eigvec:\", np.round(eigvec[0]))\n",
    "print(\"1st ex state eigvec:\", np.round(eigvec[1]))\n",
    "print(\"start gap energy (Kelvins):\", (y2[1][0] - y2[0][0])*1E9*h_kb)\n",
    "gap = np.array(y2[2]) - np.array(y2[0])\n",
    "mingap = min(gap)\n",
    "print(\"min gap energy (Kelvins):\", mingap*1E9*h_kb)\n",
    "# calculate adiabatic condition V/gap^2\n",
    "scale = V2/(gap)**2\n",
    "print(\"adiabatic condition (ns):\", max(V2/(gap)**2))\n",
    "\n",
    "fig = plt.figure('adiabatic condition')\n",
    "ax = plt.axes()\n",
    "ax.errorbar(x=x, y=scale)"
   ]
  },
  {
   "cell_type": "code",
   "execution_count": 19,
   "metadata": {
    "scrolled": true
   },
   "outputs": [
    {
     "name": "stdout",
     "output_type": "stream",
     "text": [
      "[-8.  -8.  -7.  -6.  -6.  -6.  -6.  -5.5 -5.  -5.  -5.  -4.  -4.  -3.5\n",
      " -3.5 -3.  -1.5  1.   1.   1.5  1.5  3.5  3.5  5.5  6.5  7.   7.5  7.5\n",
      "  8.5  8.5 10.5 13.5]\n",
      "0th excited state eigvec: 01000 -8.0\n",
      "1th excited state eigvec: 10010 -8.0\n",
      "2th excited state eigvec: 11111 -7.0\n",
      "3th excited state eigvec: 01001 -6.0\n",
      "4th excited state eigvec: 01100 -6.0\n"
     ]
    }
   ],
   "source": [
    "from numpy.linalg import eigh\n",
    "qubo = tdse1._constructIsingH(Jij, hi)\n",
    "val, vec = eigh(qubo.toarray())\n",
    "print(val)\n",
    "for n in range(5):\n",
    "    print(f\"{n}th excited state eigvec:\", \"{0:05b}\".format(np.argmax(np.absolute(np.round(vec[:,n]).real))), val[n])"
   ]
  },
  {
   "cell_type": "code",
   "execution_count": 21,
   "metadata": {},
   "outputs": [
    {
     "name": "stdout",
     "output_type": "stream",
     "text": [
      "[-93.39661673 -91.39488195 -83.10958722 -71.1393055  -71.1393055\n",
      " -68.01540258 -68.01540258 -63.75145447 -59.73010785 -59.73010785\n",
      " -57.167289   -48.88199427 -44.63592321 -40.3719751  -40.3719751\n",
      " -36.35062848 -16.99249573  11.84898097  11.84898097  17.23509722\n",
      "  19.23683201  39.49240845  39.49240845  61.74971968  76.28282026\n",
      "  80.86525094  88.25310198  88.25310198  99.66229963  99.66229963\n",
      " 123.041779   157.26937195]\n",
      "0th excited state eigvec: 10010 -93.39661673400556\n",
      "1th excited state eigvec: 01000 -91.39488195091243\n",
      "2th excited state eigvec: 11111 -83.10958722447684\n",
      "3th excited state eigvec: 10011 -71.1393055039099\n",
      "4th excited state eigvec: 10011 -71.13930550390985\n",
      "[-95.81744 -95.81744 -83.84026 -71.86308 -71.86308 -71.86308 -71.86308\n",
      " -65.87449 -59.8859  -59.8859  -59.8859  -47.90872 -47.90872 -41.92013\n",
      " -41.92013 -35.93154 -17.96577  11.97718  11.97718  17.96577  17.96577\n",
      "  41.92013  41.92013  65.87449  77.85167  83.84026  89.82885  89.82885\n",
      " 101.80603 101.80603 125.76039 161.69193]\n",
      "0th excited state eigvec: 01000 -95.81744000000002\n",
      "1th excited state eigvec: 10010 -95.81743999999996\n",
      "2th excited state eigvec: 11111 -83.84025999999999\n",
      "3th excited state eigvec: 10110 -71.86308000000012\n",
      "4th excited state eigvec: 01001 -71.86308\n",
      "[-95.65474957 -93.68060791 -80.55366665 -72.2752702  -72.2752702\n",
      " -69.15136728 -69.15136728 -64.88741917 -59.72320957 -57.17418728\n",
      " -57.17418728 -48.89579083 -44.62212665 -41.5079398  -41.5079398\n",
      " -33.79470791 -18.12846043  11.5649898   11.5649898   15.82893791\n",
      "  17.80307957  42.3323202   42.3323202   66.86156083  75.71483791\n",
      "  82.85318917  87.11713728  87.11713728  99.09431728  99.09431728\n",
      " 122.47379665 158.40533665]\n",
      "0th excited state eigvec: 01000 -95.65474957425586\n",
      "1th excited state eigvec: 10010 -93.68060790889518\n",
      "2th excited state eigvec: 11111 -80.55366665047069\n",
      "3th excited state eigvec: 01100 -72.2752702034681\n",
      "4th excited state eigvec: 01001 -72.27527020346803\n"
     ]
    }
   ],
   "source": [
    "from numpy.linalg import eigh\n",
    "qubo = tdse.annealingH(1)\n",
    "val, vec = eigh(qubo.toarray())\n",
    "print(val)\n",
    "for n in range(5):\n",
    "    print(f\"{n}th excited state eigvec:\", \"{0:05b}\".format(np.argmax(np.absolute(np.round(vec[:,n]).real))), val[n])\n",
    "qubo = tdse1.annealingH(1)\n",
    "val, vec = eigh(qubo.toarray())\n",
    "print(val)\n",
    "for n in range(5):\n",
    "    print(f\"{n}th excited state eigvec:\", \"{0:05b}\".format(np.argmax(np.absolute(np.round(vec[:,n]).real))), val[n])\n",
    "qubo = tdse2.annealingH(1)\n",
    "val, vec = eigh(qubo.toarray())\n",
    "print(val)\n",
    "for n in range(5):\n",
    "    print(f\"{n}th excited state eigvec:\", \"{0:05b}\".format(np.argmax(np.absolute(np.round(vec[:,n]).real))), val[n])\n"
   ]
  },
  {
   "cell_type": "code",
   "execution_count": 15,
   "metadata": {},
   "outputs": [
    {
     "data": {
      "text/plain": [
       "<matplotlib.legend.Legend at 0x7fb3b0c997f0>"
      ]
     },
     "execution_count": 15,
     "metadata": {},
     "output_type": "execute_result"
    },
    {
     "data": {
      "image/png": "[encoded data removed]",
      "text/plain": [
       "<Figure size 432x288 with 1 Axes>"
      ]
     },
     "metadata": {
      "needs_background": "light"
     },
     "output_type": "display_data"
    }
   ],
   "source": [
    "level0 = 0\n",
    "level1 = 1\n",
    "temp = 0.015\n",
    "kb = 8.617333262145e-5  # Boltzmann constant [eV / K]\n",
    "# h = 4.135667696e-15  # Plank constant [eV s] (no 2 pi)\n",
    "h = 6.582119569e-16\n",
    "one = 1e-9  # GHz s\n",
    "beta = 1 / (temp * kb / h * one)\n",
    "gap = np.array(y[level1])-np.array(y[level0])\n",
    "e=np.exp(-beta*gap/tdse.ising[\"energyscale\"])\n",
    "gap1 = np.array(y1[level1])-np.array(y1[level0])\n",
    "e1=np.exp(-beta*gap1/tdse1.ising[\"energyscale\"])\n",
    "gap2 = np.array(y2[level1])-np.array(y2[level0])\n",
    "e2=np.exp(-beta*gap2/tdse2.ising[\"energyscale\"])\n",
    "fig = plt.figure('exp(-beta*gap)')\n",
    "ax = plt.axes()\n",
    "\n",
    "ax.errorbar(x=x, y=e, label=\"-10%\", color='red')\n",
    "ax.errorbar(x=x, y=e1, label=\"0%\", color='green')\n",
    "ax.errorbar(x=x, y=e2, label=\"10%\", color='blue')\n",
    "ax.legend()\n",
    "\n",
    "level0 = 0\n",
    "level1 = 2\n",
    "gap = np.array(y[level1])-np.array(y[level0])\n",
    "e=np.exp(-beta*gap/tdse.ising[\"energyscale\"])\n",
    "gap1 = np.array(y1[level1])-np.array(y1[level0])\n",
    "e1=np.exp(-beta*gap1/tdse1.ising[\"energyscale\"])\n",
    "gap2 = np.array(y2[level1])-np.array(y2[level0])\n",
    "e2=np.exp(-beta*gap2/tdse2.ising[\"energyscale\"])\n",
    "ax.errorbar(x=x, y=e, label=\"-10%\", color='red')\n",
    "ax.errorbar(x=x, y=e1, label=\"0%\", color='green')\n",
    "ax.errorbar(x=x, y=e2, label=\"10%\", color='blue')\n",
    "ax.legend()"
   ]
  },
  {
   "cell_type": "code",
   "execution_count": 16,
   "metadata": {},
   "outputs": [
    {
     "data": {
      "image/png": "[encoded data removed]",
      "text/plain": [
       "<Figure size 432x288 with 1 Axes>"
      ]
     },
     "metadata": {
      "needs_background": "light"
     },
     "output_type": "display_data"
    },
    {
     "data": {
      "image/png": "[encoded data removed]",
      "text/plain": [
       "<Figure size 432x288 with 1 Axes>"
      ]
     },
     "metadata": {
      "needs_background": "light"
     },
     "output_type": "display_data"
    }
   ],
   "source": [
    "fig = plt.figure('gamma')\n",
    "ax = plt.axes()\n",
    "\n",
    "x = tdse.gammadict['s']\n",
    "y = tdse.gammadict['g']\n",
    "ax.errorbar(x=x, y=y, label='full counting')\n",
    "ax.legend()\n",
    "plt.show()\n",
    "\n",
    "fig = plt.figure('gamma local')\n",
    "ax = plt.axes()\n",
    "\n",
    "x = tdse.gammadict['s']\n",
    "y = tdse.gammadict['glocal']\n",
    "ax.errorbar(x=x, y=y, label='local')\n",
    "ax.legend()\n",
    "plt.show()\n",
    "\n"
   ]
  }
 ],
 "metadata": {
  "kernelspec": {
   "display_name": "Python 3",
   "language": "python",
   "name": "python3"
  },
  "language_info": {
   "codemirror_mode": {
    "name": "ipython",
    "version": 3
   },
   "file_extension": ".py",
   "mimetype": "text/x-python",
   "name": "python",
   "nbconvert_exporter": "python",
   "pygments_lexer": "ipython3",
   "version": "3.8.3"
  }
 },
 "nbformat": 4,
 "nbformat_minor": 2
}
