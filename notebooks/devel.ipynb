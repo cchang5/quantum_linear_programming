{
 "cells": [
  {
   "cell_type": "code",
   "execution_count": 1,
   "metadata": {},
   "outputs": [],
   "source": [
    "from itertools import product\n",
    "\n",
    "import numpy as np\n",
    "\n",
    "from IPython.display import display\n",
    "\n",
    "from sympy import symbols, Eq\n",
    "from sympy import zeros, diag, Matrix\n",
    "\n",
    "import qlp.eqn_converter as qlp"
   ]
  },
  {
   "cell_type": "code",
   "execution_count": 2,
   "metadata": {},
   "outputs": [],
   "source": [
    "a1, a2, b1, b2, x1, x2, s1, s2, p, c1, c2 = symbols(\n",
    "    \"a1, a2, b1, b2, x1, x2, s1, s2, p, c1, c2\"\n",
    ")\n",
    "subs = {\n",
    "    \"a1\": \"0.456\",\n",
    "    \"a2\": \"0.1\",\n",
    "    \"b1\": \"10\",\n",
    "    \"b2\": \"-2.1\",\n",
    "    \"c1\": 2,\n",
    "    \"c2\": 0.5,\n",
    "    \"p\": 100,\n",
    "}\n",
    "\n",
    "eqns = [\n",
    "    a1 * x1 <= b1,\n",
    "    a2 * x1 + a1 * x2 <= b2,\n",
    "]\n",
    "\n",
    "x = Matrix([x1, x2])\n",
    "s = Matrix([s1, s2])\n",
    "c = Matrix([c1, c2])"
   ]
  },
  {
   "cell_type": "code",
   "execution_count": 3,
   "metadata": {},
   "outputs": [
    {
     "name": "stdout",
     "output_type": "stream",
     "text": [
      "A x - b + D s\n"
     ]
    },
    {
     "data": {
      "text/latex": [
       "$\\displaystyle \\left[\\begin{matrix}a_{1} x_{1} - b_{1} + s_{1}\\\\a_{1} x_{2} + a_{2} x_{1} - b_{2} + s_{2}\\end{matrix}\\right]$"
      ],
      "text/plain": [
       "Matrix([\n",
       "[        a1*x1 - b1 + s1],\n",
       "[a1*x2 + a2*x1 - b2 + s2]])"
      ]
     },
     "metadata": {},
     "output_type": "display_data"
    },
    {
     "name": "stdout",
     "output_type": "stream",
     "text": [
      "Argument of (3)\n"
     ]
    },
    {
     "data": {
      "text/latex": [
       "$\\displaystyle \\left[\\begin{matrix}c_{1} x_{1} + c_{2} x_{2} - \\left(a_{1} x_{1} - b_{1} + s_{1}\\right)^{2} - \\left(a_{1} x_{2} + a_{2} x_{1} - b_{2} + s_{2}\\right)^{2}\\end{matrix}\\right]$"
      ],
      "text/plain": [
       "Matrix([[c1*x1 + c2*x2 - (a1*x1 - b1 + s1)**2 - (a1*x2 + a2*x1 - b2 + s2)**2]])"
      ]
     },
     "execution_count": 3,
     "metadata": {},
     "output_type": "execute_result"
    }
   ],
   "source": [
    "a, b, d = qlp.eqns_to_matrix(eqns, x)\n",
    "\n",
    "mm = a @ x + b + d @ s\n",
    "print(\"A x - b + D s\")\n",
    "display(mm)\n",
    "\n",
    "print(\"Argument of (3)\")\n",
    "c.T @ x - mm.T @ mm"
   ]
  },
  {
   "cell_type": "code",
   "execution_count": 4,
   "metadata": {},
   "outputs": [
    {
     "name": "stdout",
     "output_type": "stream",
     "text": [
      "{'a1': '0.456', 'a2': '0.1', 'b1': '10', 'b2': '-2.1', 'c1': 2, 'c2': 0.5, 'p': 100}\n",
      "A x - b + D s after rescaling\n",
      "Multipying by 1000\n"
     ]
    },
    {
     "data": {
      "text/latex": [
       "$\\displaystyle \\left[\\begin{matrix}s_{1} + 456 x_{1} - 10000\\\\s_{2} + 100 x_{1} + 456 x_{2} + 2100\\end{matrix}\\right]$"
      ],
      "text/plain": [
       "Matrix([\n",
       "[        s1 + 456*x1 - 10000],\n",
       "[s2 + 100*x1 + 456*x2 + 2100]])"
      ]
     },
     "execution_count": 4,
     "metadata": {},
     "output_type": "execute_result"
    }
   ],
   "source": [
    "print(subs)\n",
    "print(\"A x - b + D s after rescaling\")\n",
    "qlp.rescale_expressions(mm, subs)"
   ]
  },
  {
   "cell_type": "code",
   "execution_count": 5,
   "metadata": {},
   "outputs": [
    {
     "name": "stdout",
     "output_type": "stream",
     "text": [
      "eq (11) with Nb = 2\n"
     ]
    },
    {
     "data": {
      "text/plain": [
       "array([[1, 2, 0, 0, 0, 0, 0, 0],\n",
       "       [0, 0, 1, 2, 0, 0, 0, 0],\n",
       "       [0, 0, 0, 0, 1, 2, 0, 0],\n",
       "       [0, 0, 0, 0, 0, 0, 1, 2]])"
      ]
     },
     "execution_count": 5,
     "metadata": {},
     "output_type": "execute_result"
    }
   ],
   "source": [
    "print(\"eq (11) with Nb = 2\")\n",
    "q = qlp.get_bit_map(len(x) + len(s), 2)\n",
    "q"
   ]
  },
  {
   "cell_type": "code",
   "execution_count": 6,
   "metadata": {},
   "outputs": [
    {
     "name": "stdout",
     "output_type": "stream",
     "text": [
      "alpha: eq (14)\n"
     ]
    },
    {
     "data": {
      "text/latex": [
       "$\\displaystyle \\left[\\begin{matrix}a_{1} & 0 & 1 & 0\\\\a_{2} & a_{1} & 0 & 1\\end{matrix}\\right]$"
      ],
      "text/plain": [
       "Matrix([\n",
       "[a1,  0, 1, 0],\n",
       "[a2, a1, 0, 1]])"
      ]
     },
     "metadata": {},
     "output_type": "display_data"
    },
    {
     "name": "stdout",
     "output_type": "stream",
     "text": [
      "alpha.q:\n"
     ]
    },
    {
     "data": {
      "text/latex": [
       "$\\displaystyle \\left[\\begin{matrix}a_{1} & 2 a_{1} & 0 & 0 & 1 & 2 & 0 & 0\\\\a_{2} & 2 a_{2} & a_{1} & 2 a_{1} & 0 & 0 & 1 & 2\\end{matrix}\\right]$"
      ],
      "text/plain": [
       "Matrix([\n",
       "[a1, 2*a1,  0,    0, 1, 2, 0, 0],\n",
       "[a2, 2*a2, a1, 2*a1, 0, 0, 1, 2]])"
      ]
     },
     "metadata": {},
     "output_type": "display_data"
    }
   ],
   "source": [
    "alpha = zeros(rows=a.rows, cols=a.cols + d.cols)\n",
    "\n",
    "for ncol, nrow in product(range(a.rows), range(a.cols)):\n",
    "    alpha[ncol, nrow] = a[ncol, nrow]\n",
    "\n",
    "for ncol, nrow in product(range(a.rows), range(d.cols)):\n",
    "    alpha[ncol, a.cols + nrow] = d[ncol, nrow]\n",
    "\n",
    "alpha_q = alpha @ q\n",
    "\n",
    "print(\"alpha: eq (14)\")\n",
    "display(alpha)\n",
    "print(\"alpha.q:\")\n",
    "display(alpha_q)"
   ]
  },
  {
   "cell_type": "code",
   "execution_count": 7,
   "metadata": {},
   "outputs": [
    {
     "name": "stdout",
     "output_type": "stream",
     "text": [
      "gamma: eq (12)\n"
     ]
    },
    {
     "data": {
      "text/latex": [
       "$\\displaystyle \\left[\\begin{matrix}c_{1}\\\\c_{2}\\\\0\\\\0\\end{matrix}\\right]$"
      ],
      "text/plain": [
       "Matrix([\n",
       "[c1],\n",
       "[c2],\n",
       "[ 0],\n",
       "[ 0]])"
      ]
     },
     "metadata": {},
     "output_type": "display_data"
    },
    {
     "name": "stdout",
     "output_type": "stream",
     "text": [
      "gamma.q\n"
     ]
    },
    {
     "data": {
      "text/latex": [
       "$\\displaystyle \\left[\\begin{matrix}c_{1} & 2 c_{1} & c_{2} & 2 c_{2} & 0 & 0 & 0 & 0\\end{matrix}\\right]$"
      ],
      "text/plain": [
       "Matrix([[c1, 2*c1, c2, 2*c2, 0, 0, 0, 0]])"
      ]
     },
     "metadata": {},
     "output_type": "display_data"
    }
   ],
   "source": [
    "gamma = zeros(rows=c.rows + b.rows, cols=1)\n",
    "\n",
    "for nrow in range(c.rows):\n",
    "    gamma[nrow] = c[nrow]\n",
    "\n",
    "gamma_q = gamma.T @ q\n",
    "\n",
    "print(\"gamma: eq (12)\")\n",
    "display(gamma)\n",
    "\n",
    "print(\"gamma.q\")\n",
    "display(gamma_q)"
   ]
  },
  {
   "cell_type": "code",
   "execution_count": 8,
   "metadata": {},
   "outputs": [
    {
     "name": "stdout",
     "output_type": "stream",
     "text": [
      "b.alpha.q: eq (15)\n"
     ]
    },
    {
     "data": {
      "text/latex": [
       "$\\displaystyle \\left[\\begin{matrix}- a_{1} b_{1} - a_{2} b_{2} & - 2 a_{1} b_{1} - 2 a_{2} b_{2} & - a_{1} b_{2} & - 2 a_{1} b_{2} & - b_{1} & - 2 b_{1} & - b_{2} & - 2 b_{2}\\end{matrix}\\right]$"
      ],
      "text/plain": [
       "Matrix([[-a1*b1 - a2*b2, -2*a1*b1 - 2*a2*b2, -a1*b2, -2*a1*b2, -b1, -2*b1, -b2, -2*b2]])"
      ]
     },
     "metadata": {},
     "output_type": "display_data"
    },
    {
     "name": "stdout",
     "output_type": "stream",
     "text": [
      "omega: eq (17)\n"
     ]
    },
    {
     "data": {
      "text/latex": [
       "$\\displaystyle \\left[\\begin{matrix}a_{1}^{2} + a_{2}^{2} + c_{1} - 2 p \\left(- a_{1} b_{1} - a_{2} b_{2}\\right) & 2 a_{1}^{2} + 2 a_{2}^{2} & a_{1} a_{2} & 2 a_{1} a_{2} & a_{1} & 2 a_{1} & a_{2} & 2 a_{2}\\\\2 a_{1}^{2} + 2 a_{2}^{2} & 4 a_{1}^{2} + 4 a_{2}^{2} + 2 c_{1} - 2 p \\left(- 2 a_{1} b_{1} - 2 a_{2} b_{2}\\right) & 2 a_{1} a_{2} & 4 a_{1} a_{2} & 2 a_{1} & 4 a_{1} & 2 a_{2} & 4 a_{2}\\\\a_{1} a_{2} & 2 a_{1} a_{2} & a_{1}^{2} + 2 a_{1} b_{2} p + c_{2} & 2 a_{1}^{2} & 0 & 0 & a_{1} & 2 a_{1}\\\\2 a_{1} a_{2} & 4 a_{1} a_{2} & 2 a_{1}^{2} & 4 a_{1}^{2} + 4 a_{1} b_{2} p + 2 c_{2} & 0 & 0 & 2 a_{1} & 4 a_{1}\\\\a_{1} & 2 a_{1} & 0 & 0 & 2 b_{1} p + 1 & 2 & 0 & 0\\\\2 a_{1} & 4 a_{1} & 0 & 0 & 2 & 4 b_{1} p + 4 & 0 & 0\\\\a_{2} & 2 a_{2} & a_{1} & 2 a_{1} & 0 & 0 & 2 b_{2} p + 1 & 2\\\\2 a_{2} & 4 a_{2} & 2 a_{1} & 4 a_{1} & 0 & 0 & 2 & 4 b_{2} p + 4\\end{matrix}\\right]$"
      ],
      "text/plain": [
       "Matrix([\n",
       "[a1**2 + a2**2 + c1 - 2*p*(-a1*b1 - a2*b2),                                   2*a1**2 + 2*a2**2,                  a1*a2,                    2*a1*a2,         a1,       2*a1,         a2,       2*a2],\n",
       "[                        2*a1**2 + 2*a2**2, 4*a1**2 + 4*a2**2 + 2*c1 - 2*p*(-2*a1*b1 - 2*a2*b2),                2*a1*a2,                    4*a1*a2,       2*a1,       4*a1,       2*a2,       4*a2],\n",
       "[                                    a1*a2,                                             2*a1*a2, a1**2 + 2*a1*b2*p + c2,                    2*a1**2,          0,          0,         a1,       2*a1],\n",
       "[                                  2*a1*a2,                                             4*a1*a2,                2*a1**2, 4*a1**2 + 4*a1*b2*p + 2*c2,          0,          0,       2*a1,       4*a1],\n",
       "[                                       a1,                                                2*a1,                      0,                          0, 2*b1*p + 1,          2,          0,          0],\n",
       "[                                     2*a1,                                                4*a1,                      0,                          0,          2, 4*b1*p + 4,          0,          0],\n",
       "[                                       a2,                                                2*a2,                     a1,                       2*a1,          0,          0, 2*b2*p + 1,          2],\n",
       "[                                     2*a2,                                                4*a2,                   2*a1,                       4*a1,          0,          0,          2, 4*b2*p + 4]])"
      ]
     },
     "execution_count": 8,
     "metadata": {},
     "output_type": "execute_result"
    }
   ],
   "source": [
    "print(\"b.alpha.q: eq (15)\")\n",
    "display(b.T @ alpha_q)\n",
    "\n",
    "print(\"omega: eq (17)\")\n",
    "omega = diag(*gamma_q) + alpha_q.T @ alpha_q - 2 * p * diag(*b.T @ alpha_q)\n",
    "omega"
   ]
  },
  {
   "cell_type": "code",
   "execution_count": 9,
   "metadata": {},
   "outputs": [
    {
     "name": "stdout",
     "output_type": "stream",
     "text": [
      "omega after substituion\n",
      "Multipying by 1000\n"
     ]
    },
    {
     "data": {
      "text/plain": [
       "array([[870000219936, 435872, 45600, 91200, 456, 912, 100, 200],\n",
       "       [435872, 1740000875744, 91200, 182400, 912, 1824, 200, 400],\n",
       "       [45600, 91200, -191519791564, 415872, 0, 0, 456, 912],\n",
       "       [91200, 182400, 415872, -383039167256, 0, 0, 912, 1824],\n",
       "       [456, 912, 0, 0, 2000000001, 2, 0, 0],\n",
       "       [912, 1824, 0, 0, 2, 4000000004, 0, 0],\n",
       "       [100, 200, 456, 912, 0, 0, -419999999, 2],\n",
       "       [200, 400, 912, 1824, 0, 0, 2, -839999996]], dtype=object)"
      ]
     },
     "execution_count": 9,
     "metadata": {},
     "output_type": "execute_result"
    }
   ],
   "source": [
    "print(\"omega after substituion\")\n",
    "omega_subs = np.array(qlp.rescale_expressions(omega, subs))\n",
    "omega_subs"
   ]
  },
  {
   "cell_type": "code",
   "execution_count": null,
   "metadata": {},
   "outputs": [],
   "source": []
  }
 ],
 "metadata": {
  "kernelspec": {
   "display_name": "Python 3",
   "language": "python",
   "name": "python3"
  },
  "language_info": {
   "codemirror_mode": {
    "name": "ipython",
    "version": 3
   },
   "file_extension": ".py",
   "mimetype": "text/x-python",
   "name": "python",
   "nbconvert_exporter": "python",
   "pygments_lexer": "ipython3",
   "version": "3.8.3"
  }
 },
 "nbformat": 4,
 "nbformat_minor": 2
}
