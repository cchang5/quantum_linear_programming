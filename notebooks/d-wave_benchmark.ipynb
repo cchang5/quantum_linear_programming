{
 "cells": [
  {
   "cell_type": "markdown",
   "metadata": {},
   "source": [
    "# Benchmark for d-wave"
   ]
  },
  {
   "cell_type": "code",
   "execution_count": 1,
   "metadata": {},
   "outputs": [],
   "source": [
    "from typing import Optional"
   ]
  },
  {
   "cell_type": "code",
   "execution_count": 2,
   "metadata": {},
   "outputs": [],
   "source": [
    "import matplotlib.pylab as plt\n",
    "import seaborn as sns\n",
    "import os\n",
    "import numpy as np\n",
    "import pandas as pd"
   ]
  },
  {
   "cell_type": "code",
   "execution_count": 3,
   "metadata": {},
   "outputs": [],
   "source": [
    "from networkx import Graph\n",
    "from networkx.algorithms.approximation import min_weighted_dominating_set"
   ]
  },
  {
   "cell_type": "code",
   "execution_count": 4,
   "metadata": {},
   "outputs": [],
   "source": [
    "from dwave.system.samplers import DWaveSampler\n",
    "from dwave.system.composites import EmbeddingComposite"
   ]
  },
  {
   "cell_type": "code",
   "execution_count": 5,
   "metadata": {},
   "outputs": [],
   "source": [
    "dwave_config = {\n",
    "    # \"solver\": \"DW_2000Q_5\",\n",
    "    \"annealing_time\": 100,  # integer microseconds [1, 2000]\n",
    "    \"answer_mode\": \"raw\",\n",
    "    \"auto_scale\": True,\n",
    "    \"num_reads\": 1000,  # raw will dump out all results\n",
    "    \"num_spin_reversal_transforms\": 10,  # ask Travis what this is\n",
    "}\n",
    "sampler = DWaveSampler(solver=\"DW_2000Q_5\")\n",
    "embed = EmbeddingComposite(sampler)"
   ]
  },
  {
   "cell_type": "raw",
   "metadata": {},
   "source": [
    "!git show --summary"
   ]
  },
  {
   "cell_type": "code",
   "execution_count": 6,
   "metadata": {},
   "outputs": [],
   "source": [
    "from qlp.mds import graph_tools as gt\n",
    "from qlp.mds.qubo import get_mds_qubo\n",
    "from qlp.mds.solver import classical_search"
   ]
  },
  {
   "cell_type": "code",
   "execution_count": 7,
   "metadata": {},
   "outputs": [],
   "source": [
    "def agg_res(df: pd.DataFrame, n_nodes: Optional[int] = None) -> pd.DataFrame:\n",
    "    \"\"\"Aggregate solution columns, find probablity and sort df\n",
    "    \"\"\"\n",
    "    cols = [col for col in df.columns if str(col).isnumeric()]\n",
    "    dist = (\n",
    "        df.groupby(cols)\n",
    "        .agg({\"num_occurrences\": \"count\", \"energy\": \"mean\"})\n",
    "        .sort_values(\"num_occurrences\", ascending=False)\n",
    "    )\n",
    "    if n_nodes is not None:\n",
    "        not_cols = [col for col in cols if int(col) >= n_nodes]\n",
    "        dist = dist.reset_index(not_cols).drop(columns=not_cols)\n",
    "\n",
    "    dist[\"p\"] = dist[\"num_occurrences\"] / dist[\"num_occurrences\"].sum()\n",
    "    return dist"
   ]
  },
  {
   "cell_type": "markdown",
   "metadata": {},
   "source": [
    "# Examples"
   ]
  },
  {
   "cell_type": "markdown",
   "metadata": {
    "heading_collapsed": true
   },
   "source": [
    "## Most simple graph with unique sol"
   ]
  },
  {
   "cell_type": "code",
   "execution_count": 8,
   "metadata": {
    "hidden": true
   },
   "outputs": [
    {
     "data": {
      "image/png": "[encoded data removed]",
      "text/plain": [
       "<Figure size 432x288 with 1 Axes>"
      ]
     },
     "metadata": {},
     "output_type": "display_data"
    }
   ],
   "source": [
    "graph = {(1, 0,), (2, 0)}\n",
    "\n",
    "gt.get_plot(graph)\n",
    "plt.show()"
   ]
  },
  {
   "cell_type": "code",
   "execution_count": 9,
   "metadata": {
    "hidden": true
   },
   "outputs": [
    {
     "data": {
      "text/plain": [
       "matrix([[-11,   8,   8,  -8, -16,  -8,  -8],\n",
       "        [  8,  -7,   4,  -8, -16,  -8,   0],\n",
       "        [  8,   4,  -7,  -8, -16,   0,  -8],\n",
       "        [  0,   0,   0,  12,   8,   0,   0],\n",
       "        [  0,   0,   0,   8,  32,   0,   0],\n",
       "        [  0,   0,   0,   0,   0,  12,   0],\n",
       "        [  0,   0,   0,   0,   0,   0,  12]])"
      ]
     },
     "execution_count": 9,
     "metadata": {},
     "output_type": "execute_result"
    }
   ],
   "source": [
    "qubo = get_mds_qubo(graph)\n",
    "qubo.todense()"
   ]
  },
  {
   "cell_type": "markdown",
   "metadata": {
    "hidden": true
   },
   "source": [
    "### Solve problem on D-Wave"
   ]
  },
  {
   "cell_type": "code",
   "execution_count": 10,
   "metadata": {},
   "outputs": [
    {
     "name": "stderr",
     "output_type": "stream",
     "text": [
      "100%|██████████| 128/128 [00:00<00:00, 7772.96it/s]\n"
     ]
    },
    {
     "name": "stdout",
     "output_type": "stream",
     "text": [
      "Brute force search classical minimal energy -11\n"
     ]
    },
    {
     "data": {
      "image/png": "[encoded data removed]",
      "text/plain": [
       "<Figure size 432x288 with 1 Axes>"
      ]
     },
     "metadata": {},
     "output_type": "display_data"
    }
   ],
   "source": [
    "e, nodes = classical_search(qubo)\n",
    "print(\"Brute force search classical minimal energy\", e)\n",
    "gt.get_plot(graph, nodes[0])\n",
    "plt.show()"
   ]
  },
  {
   "cell_type": "markdown",
   "metadata": {},
   "source": [
    "Apparently I had to manually rescale the QUBO to solve the right problem. It seems like min(Q) > -0.8 is a good setting\n",
    "\n",
    "https://docs.dwavesys.com/docs/latest/c_qpu_3.html#adjusting-the-problem-scale"
   ]
  },
  {
   "cell_type": "code",
   "execution_count": 11,
   "metadata": {},
   "outputs": [
    {
     "name": "stdout",
     "output_type": "stream",
     "text": [
      "12.8\n"
     ]
    }
   ],
   "source": [
    "q_min = np.array(list(qubo.values())).min()\n",
    "fact = np.abs(q_min) * 0.8\n",
    "print(fact)\n",
    "qubo_rescaled = qubo / fact"
   ]
  },
  {
   "cell_type": "markdown",
   "metadata": {},
   "source": [
    "Convert to dict "
   ]
  },
  {
   "cell_type": "code",
   "execution_count": 12,
   "metadata": {},
   "outputs": [
    {
     "name": "stdout",
     "output_type": "stream",
     "text": [
      "Reading data\n"
     ]
    },
    {
     "data": {
      "text/html": [
       "<div>\n",
       "<style scoped>\n",
       "    .dataframe tbody tr th:only-of-type {\n",
       "        vertical-align: middle;\n",
       "    }\n",
       "\n",
       "    .dataframe tbody tr th {\n",
       "        vertical-align: top;\n",
       "    }\n",
       "\n",
       "    .dataframe thead th {\n",
       "        text-align: right;\n",
       "    }\n",
       "</style>\n",
       "<table border=\"1\" class=\"dataframe\">\n",
       "  <thead>\n",
       "    <tr style=\"text-align: right;\">\n",
       "      <th></th>\n",
       "      <th>0</th>\n",
       "      <th>1</th>\n",
       "      <th>2</th>\n",
       "      <th>3</th>\n",
       "      <th>4</th>\n",
       "      <th>5</th>\n",
       "      <th>6</th>\n",
       "      <th>chain_break_fraction</th>\n",
       "      <th>energy</th>\n",
       "      <th>num_occurrences</th>\n",
       "    </tr>\n",
       "  </thead>\n",
       "  <tbody>\n",
       "    <tr>\n",
       "      <th>446</th>\n",
       "      <td>1</td>\n",
       "      <td>0</td>\n",
       "      <td>0</td>\n",
       "      <td>0</td>\n",
       "      <td>0</td>\n",
       "      <td>0</td>\n",
       "      <td>0</td>\n",
       "      <td>0.0</td>\n",
       "      <td>-11.0</td>\n",
       "      <td>1</td>\n",
       "    </tr>\n",
       "    <tr>\n",
       "      <th>414</th>\n",
       "      <td>1</td>\n",
       "      <td>0</td>\n",
       "      <td>0</td>\n",
       "      <td>0</td>\n",
       "      <td>0</td>\n",
       "      <td>0</td>\n",
       "      <td>0</td>\n",
       "      <td>0.0</td>\n",
       "      <td>-11.0</td>\n",
       "      <td>1</td>\n",
       "    </tr>\n",
       "    <tr>\n",
       "      <th>405</th>\n",
       "      <td>1</td>\n",
       "      <td>0</td>\n",
       "      <td>0</td>\n",
       "      <td>0</td>\n",
       "      <td>0</td>\n",
       "      <td>0</td>\n",
       "      <td>0</td>\n",
       "      <td>0.0</td>\n",
       "      <td>-11.0</td>\n",
       "      <td>1</td>\n",
       "    </tr>\n",
       "    <tr>\n",
       "      <th>400</th>\n",
       "      <td>1</td>\n",
       "      <td>0</td>\n",
       "      <td>0</td>\n",
       "      <td>0</td>\n",
       "      <td>0</td>\n",
       "      <td>0</td>\n",
       "      <td>0</td>\n",
       "      <td>0.0</td>\n",
       "      <td>-11.0</td>\n",
       "      <td>1</td>\n",
       "    </tr>\n",
       "    <tr>\n",
       "      <th>398</th>\n",
       "      <td>1</td>\n",
       "      <td>0</td>\n",
       "      <td>0</td>\n",
       "      <td>0</td>\n",
       "      <td>0</td>\n",
       "      <td>0</td>\n",
       "      <td>0</td>\n",
       "      <td>0.0</td>\n",
       "      <td>-11.0</td>\n",
       "      <td>1</td>\n",
       "    </tr>\n",
       "  </tbody>\n",
       "</table>\n",
       "</div>"
      ],
      "text/plain": [
       "     0  1  2  3  4  5  6  chain_break_fraction  energy  num_occurrences\n",
       "446  1  0  0  0  0  0  0                   0.0   -11.0                1\n",
       "414  1  0  0  0  0  0  0                   0.0   -11.0                1\n",
       "405  1  0  0  0  0  0  0                   0.0   -11.0                1\n",
       "400  1  0  0  0  0  0  0                   0.0   -11.0                1\n",
       "398  1  0  0  0  0  0  0                   0.0   -11.0                1"
      ]
     },
     "execution_count": 12,
     "metadata": {},
     "output_type": "execute_result"
    }
   ],
   "source": [
    "file_name = \"graph_res_1-0-9.csv\"\n",
    "quobo_dict = {\n",
    "    key: val for key, val in zip(qubo_rescaled.keys(), qubo_rescaled.values())\n",
    "}\n",
    "\n",
    "if os.path.exists(file_name):\n",
    "    print(\"Reading data\")\n",
    "    raw = pd.read_csv(file_name)\n",
    "else:\n",
    "    print(\"Submitting\")\n",
    "    result = embed.sample_qubo(quobo_dict, **dwave_config)\n",
    "    raw = result.to_pandas_dataframe()\n",
    "    raw.to_csv(path_or_buf=file_name, index=False)\n",
    "\n",
    "df = raw.sort_values(\"energy\", ascending=True)\n",
    "df[\"energy\"] *= fact\n",
    "df.head()"
   ]
  },
  {
   "cell_type": "code",
   "execution_count": 13,
   "metadata": {},
   "outputs": [
    {
     "data": {
      "text/html": [
       "<div>\n",
       "<style scoped>\n",
       "    .dataframe tbody tr th:only-of-type {\n",
       "        vertical-align: middle;\n",
       "    }\n",
       "\n",
       "    .dataframe tbody tr th {\n",
       "        vertical-align: top;\n",
       "    }\n",
       "\n",
       "    .dataframe thead th {\n",
       "        text-align: right;\n",
       "    }\n",
       "</style>\n",
       "<table border=\"1\" class=\"dataframe\">\n",
       "  <thead>\n",
       "    <tr style=\"text-align: right;\">\n",
       "      <th></th>\n",
       "      <th></th>\n",
       "      <th></th>\n",
       "      <th>num_occurrences</th>\n",
       "      <th>energy</th>\n",
       "      <th>p</th>\n",
       "    </tr>\n",
       "    <tr>\n",
       "      <th>0</th>\n",
       "      <th>1</th>\n",
       "      <th>2</th>\n",
       "      <th></th>\n",
       "      <th></th>\n",
       "      <th></th>\n",
       "    </tr>\n",
       "  </thead>\n",
       "  <tbody>\n",
       "    <tr>\n",
       "      <th>1</th>\n",
       "      <th>0</th>\n",
       "      <th>0</th>\n",
       "      <td>292</td>\n",
       "      <td>-11.0</td>\n",
       "      <td>0.292</td>\n",
       "    </tr>\n",
       "    <tr>\n",
       "      <th>0</th>\n",
       "      <th>1</th>\n",
       "      <th>1</th>\n",
       "      <td>145</td>\n",
       "      <td>-10.0</td>\n",
       "      <td>0.145</td>\n",
       "    </tr>\n",
       "    <tr>\n",
       "      <th rowspan=\"3\" valign=\"top\">1</th>\n",
       "      <th>1</th>\n",
       "      <th>0</th>\n",
       "      <td>141</td>\n",
       "      <td>-10.0</td>\n",
       "      <td>0.141</td>\n",
       "    </tr>\n",
       "    <tr>\n",
       "      <th>0</th>\n",
       "      <th>1</th>\n",
       "      <td>131</td>\n",
       "      <td>-10.0</td>\n",
       "      <td>0.131</td>\n",
       "    </tr>\n",
       "    <tr>\n",
       "      <th>1</th>\n",
       "      <th>1</th>\n",
       "      <td>96</td>\n",
       "      <td>-9.0</td>\n",
       "      <td>0.096</td>\n",
       "    </tr>\n",
       "  </tbody>\n",
       "</table>\n",
       "</div>"
      ],
      "text/plain": [
       "       num_occurrences  energy      p\n",
       "0 1 2                                \n",
       "1 0 0              292   -11.0  0.292\n",
       "0 1 1              145   -10.0  0.145\n",
       "1 1 0              141   -10.0  0.141\n",
       "  0 1              131   -10.0  0.131\n",
       "  1 1               96    -9.0  0.096"
      ]
     },
     "execution_count": 13,
     "metadata": {},
     "output_type": "execute_result"
    }
   ],
   "source": [
    "dist = agg_res(df, n_nodes=3)\n",
    "dist.head()"
   ]
  },
  {
   "cell_type": "code",
   "execution_count": 14,
   "metadata": {},
   "outputs": [
    {
     "data": {
      "image/png": "[encoded data removed]",
      "text/plain": [
       "<Figure size 1000x300 with 5 Axes>"
      ]
     },
     "metadata": {},
     "output_type": "display_data"
    }
   ],
   "source": [
    "n_cols = 5\n",
    "first_five = dist.head(n=n_cols)\n",
    "\n",
    "fig, axs = plt.subplots(ncols=n_cols, nrows=1, squeeze=False, figsize=(10, 3), dpi=100)\n",
    "\n",
    "for ind, res, ax in zip(first_five.index, first_five.to_dict(\"records\"), axs.flatten()):\n",
    "    color_nodes = set([i for i, v in enumerate(ind) if v == 1])\n",
    "    gt.get_plot_mpl(graph, color_nodes=color_nodes, ax=ax)\n",
    "    p, e = res[\"p\"], res[\"energy\"]\n",
    "    ax.set_title(f\"p={int(p*100):d}%, e={int(e)}\")\n",
    "\n",
    "fig.suptitle(\"N=100\", y=1.1)\n",
    "\n",
    "plt.subplots_adjust(wspace=1.0)\n",
    "plt.show()"
   ]
  },
  {
   "cell_type": "raw",
   "metadata": {},
   "source": [
    "fig.savefig(file_name.replace(\"csv\", \"pdf\"), bbox_inches=\"tight\")"
   ]
  },
  {
   "cell_type": "markdown",
   "metadata": {},
   "source": [
    "## More complicated graph"
   ]
  },
  {
   "cell_type": "code",
   "execution_count": 15,
   "metadata": {},
   "outputs": [
    {
     "data": {
      "image/png": "[encoded data removed]",
      "text/plain": [
       "<Figure size 432x288 with 1 Axes>"
      ]
     },
     "metadata": {},
     "output_type": "display_data"
    }
   ],
   "source": [
    "graph = {(0, 2), (0, 3), (0, 5), (1, 2), (1, 4), (3, 4), (4, 5)}\n",
    "gt.get_plot(graph)\n",
    "plt.show()"
   ]
  },
  {
   "cell_type": "code",
   "execution_count": 16,
   "metadata": {},
   "outputs": [],
   "source": [
    "qubo = get_mds_qubo(graph)"
   ]
  },
  {
   "cell_type": "raw",
   "metadata": {},
   "source": [
    "e, nodes = classical_search(qubo)\n",
    "print(\"Brute force search classical minimal energy\", e)\n",
    "gt.get_plot(graph, nodes[0])\n",
    "plt.show()"
   ]
  },
  {
   "cell_type": "code",
   "execution_count": 17,
   "metadata": {},
   "outputs": [
    {
     "name": "stdout",
     "output_type": "stream",
     "text": [
      "22.400000000000002\n"
     ]
    }
   ],
   "source": [
    "q_min = np.array(list(qubo.values())).min()\n",
    "fact = np.abs(q_min) * 0.8\n",
    "print(fact)\n",
    "qubo_rescaled = qubo / fact"
   ]
  },
  {
   "cell_type": "code",
   "execution_count": 18,
   "metadata": {},
   "outputs": [
    {
     "name": "stdout",
     "output_type": "stream",
     "text": [
      "Reading data\n"
     ]
    },
    {
     "data": {
      "text/html": [
       "<div>\n",
       "<style scoped>\n",
       "    .dataframe tbody tr th:only-of-type {\n",
       "        vertical-align: middle;\n",
       "    }\n",
       "\n",
       "    .dataframe tbody tr th {\n",
       "        vertical-align: top;\n",
       "    }\n",
       "\n",
       "    .dataframe thead th {\n",
       "        text-align: right;\n",
       "    }\n",
       "</style>\n",
       "<table border=\"1\" class=\"dataframe\">\n",
       "  <thead>\n",
       "    <tr style=\"text-align: right;\">\n",
       "      <th></th>\n",
       "      <th>0</th>\n",
       "      <th>1</th>\n",
       "      <th>2</th>\n",
       "      <th>3</th>\n",
       "      <th>4</th>\n",
       "      <th>5</th>\n",
       "      <th>6</th>\n",
       "      <th>7</th>\n",
       "      <th>8</th>\n",
       "      <th>9</th>\n",
       "      <th>...</th>\n",
       "      <th>11</th>\n",
       "      <th>12</th>\n",
       "      <th>13</th>\n",
       "      <th>14</th>\n",
       "      <th>15</th>\n",
       "      <th>16</th>\n",
       "      <th>17</th>\n",
       "      <th>chain_break_fraction</th>\n",
       "      <th>energy</th>\n",
       "      <th>num_occurrences</th>\n",
       "    </tr>\n",
       "  </thead>\n",
       "  <tbody>\n",
       "    <tr>\n",
       "      <th>66</th>\n",
       "      <td>1</td>\n",
       "      <td>1</td>\n",
       "      <td>0</td>\n",
       "      <td>0</td>\n",
       "      <td>0</td>\n",
       "      <td>0</td>\n",
       "      <td>0</td>\n",
       "      <td>0</td>\n",
       "      <td>0</td>\n",
       "      <td>0</td>\n",
       "      <td>...</td>\n",
       "      <td>0</td>\n",
       "      <td>0</td>\n",
       "      <td>0</td>\n",
       "      <td>0</td>\n",
       "      <td>0</td>\n",
       "      <td>0</td>\n",
       "      <td>0</td>\n",
       "      <td>0.0</td>\n",
       "      <td>-40.0</td>\n",
       "      <td>1</td>\n",
       "    </tr>\n",
       "    <tr>\n",
       "      <th>37</th>\n",
       "      <td>1</td>\n",
       "      <td>0</td>\n",
       "      <td>0</td>\n",
       "      <td>0</td>\n",
       "      <td>1</td>\n",
       "      <td>0</td>\n",
       "      <td>0</td>\n",
       "      <td>0</td>\n",
       "      <td>0</td>\n",
       "      <td>0</td>\n",
       "      <td>...</td>\n",
       "      <td>0</td>\n",
       "      <td>1</td>\n",
       "      <td>0</td>\n",
       "      <td>0</td>\n",
       "      <td>0</td>\n",
       "      <td>1</td>\n",
       "      <td>0</td>\n",
       "      <td>0.0</td>\n",
       "      <td>-40.0</td>\n",
       "      <td>1</td>\n",
       "    </tr>\n",
       "    <tr>\n",
       "      <th>58</th>\n",
       "      <td>1</td>\n",
       "      <td>0</td>\n",
       "      <td>0</td>\n",
       "      <td>0</td>\n",
       "      <td>1</td>\n",
       "      <td>0</td>\n",
       "      <td>0</td>\n",
       "      <td>0</td>\n",
       "      <td>0</td>\n",
       "      <td>0</td>\n",
       "      <td>...</td>\n",
       "      <td>0</td>\n",
       "      <td>1</td>\n",
       "      <td>0</td>\n",
       "      <td>0</td>\n",
       "      <td>0</td>\n",
       "      <td>1</td>\n",
       "      <td>0</td>\n",
       "      <td>0.0</td>\n",
       "      <td>-40.0</td>\n",
       "      <td>1</td>\n",
       "    </tr>\n",
       "    <tr>\n",
       "      <th>99</th>\n",
       "      <td>1</td>\n",
       "      <td>0</td>\n",
       "      <td>0</td>\n",
       "      <td>0</td>\n",
       "      <td>1</td>\n",
       "      <td>1</td>\n",
       "      <td>1</td>\n",
       "      <td>0</td>\n",
       "      <td>0</td>\n",
       "      <td>0</td>\n",
       "      <td>...</td>\n",
       "      <td>0</td>\n",
       "      <td>1</td>\n",
       "      <td>0</td>\n",
       "      <td>1</td>\n",
       "      <td>0</td>\n",
       "      <td>0</td>\n",
       "      <td>1</td>\n",
       "      <td>0.0</td>\n",
       "      <td>-39.0</td>\n",
       "      <td>1</td>\n",
       "    </tr>\n",
       "    <tr>\n",
       "      <th>24</th>\n",
       "      <td>0</td>\n",
       "      <td>1</td>\n",
       "      <td>0</td>\n",
       "      <td>1</td>\n",
       "      <td>0</td>\n",
       "      <td>1</td>\n",
       "      <td>1</td>\n",
       "      <td>0</td>\n",
       "      <td>0</td>\n",
       "      <td>0</td>\n",
       "      <td>...</td>\n",
       "      <td>0</td>\n",
       "      <td>0</td>\n",
       "      <td>0</td>\n",
       "      <td>0</td>\n",
       "      <td>1</td>\n",
       "      <td>0</td>\n",
       "      <td>0</td>\n",
       "      <td>0.0</td>\n",
       "      <td>-39.0</td>\n",
       "      <td>1</td>\n",
       "    </tr>\n",
       "  </tbody>\n",
       "</table>\n",
       "<p>5 rows × 21 columns</p>\n",
       "</div>"
      ],
      "text/plain": [
       "    0  1  2  3  4  5  6  7  8  9  ...  11  12  13  14  15  16  17  \\\n",
       "66  1  1  0  0  0  0  0  0  0  0  ...   0   0   0   0   0   0   0   \n",
       "37  1  0  0  0  1  0  0  0  0  0  ...   0   1   0   0   0   1   0   \n",
       "58  1  0  0  0  1  0  0  0  0  0  ...   0   1   0   0   0   1   0   \n",
       "99  1  0  0  0  1  1  1  0  0  0  ...   0   1   0   1   0   0   1   \n",
       "24  0  1  0  1  0  1  1  0  0  0  ...   0   0   0   0   1   0   0   \n",
       "\n",
       "    chain_break_fraction  energy  num_occurrences  \n",
       "66                   0.0   -40.0                1  \n",
       "37                   0.0   -40.0                1  \n",
       "58                   0.0   -40.0                1  \n",
       "99                   0.0   -39.0                1  \n",
       "24                   0.0   -39.0                1  \n",
       "\n",
       "[5 rows x 21 columns]"
      ]
     },
     "execution_count": 18,
     "metadata": {},
     "output_type": "execute_result"
    }
   ],
   "source": [
    "file_name = \"graph_res_6.csv\"\n",
    "quobo_dict = {\n",
    "    key: val for key, val in zip(qubo_rescaled.keys(), qubo_rescaled.values())\n",
    "}\n",
    "\n",
    "if os.path.exists(file_name):\n",
    "    print(\"Reading data\")\n",
    "    raw = pd.read_csv(file_name)\n",
    "else:\n",
    "    print(\"Submitting\")\n",
    "    result = embed.sample_qubo(quobo_dict, **dwave_config)\n",
    "    raw = result.to_pandas_dataframe()\n",
    "    raw.to_csv(path_or_buf=file_name, index=False)\n",
    "\n",
    "df = raw.sort_values(\"energy\", ascending=True)\n",
    "df[\"energy\"] *= fact\n",
    "df.head()"
   ]
  },
  {
   "cell_type": "code",
   "execution_count": 19,
   "metadata": {},
   "outputs": [
    {
     "data": {
      "text/html": [
       "<div>\n",
       "<style scoped>\n",
       "    .dataframe tbody tr th:only-of-type {\n",
       "        vertical-align: middle;\n",
       "    }\n",
       "\n",
       "    .dataframe tbody tr th {\n",
       "        vertical-align: top;\n",
       "    }\n",
       "\n",
       "    .dataframe thead th {\n",
       "        text-align: right;\n",
       "    }\n",
       "</style>\n",
       "<table border=\"1\" class=\"dataframe\">\n",
       "  <thead>\n",
       "    <tr style=\"text-align: right;\">\n",
       "      <th></th>\n",
       "      <th></th>\n",
       "      <th></th>\n",
       "      <th></th>\n",
       "      <th></th>\n",
       "      <th></th>\n",
       "      <th>num_occurrences</th>\n",
       "      <th>energy</th>\n",
       "      <th>p</th>\n",
       "    </tr>\n",
       "    <tr>\n",
       "      <th>0</th>\n",
       "      <th>1</th>\n",
       "      <th>2</th>\n",
       "      <th>3</th>\n",
       "      <th>4</th>\n",
       "      <th>5</th>\n",
       "      <th></th>\n",
       "      <th></th>\n",
       "      <th></th>\n",
       "    </tr>\n",
       "  </thead>\n",
       "  <tbody>\n",
       "    <tr>\n",
       "      <th rowspan=\"4\" valign=\"top\">1</th>\n",
       "      <th>0</th>\n",
       "      <th>0</th>\n",
       "      <th>0</th>\n",
       "      <th>1</th>\n",
       "      <th>0</th>\n",
       "      <td>2</td>\n",
       "      <td>-40.0</td>\n",
       "      <td>0.02</td>\n",
       "    </tr>\n",
       "    <tr>\n",
       "      <th>1</th>\n",
       "      <th>0</th>\n",
       "      <th>0</th>\n",
       "      <th>0</th>\n",
       "      <th>0</th>\n",
       "      <td>1</td>\n",
       "      <td>-40.0</td>\n",
       "      <td>0.01</td>\n",
       "    </tr>\n",
       "    <tr>\n",
       "      <th rowspan=\"2\" valign=\"top\">0</th>\n",
       "      <th rowspan=\"2\" valign=\"top\">0</th>\n",
       "      <th>0</th>\n",
       "      <th>1</th>\n",
       "      <th>1</th>\n",
       "      <td>1</td>\n",
       "      <td>-39.0</td>\n",
       "      <td>0.01</td>\n",
       "    </tr>\n",
       "    <tr>\n",
       "      <th>1</th>\n",
       "      <th>1</th>\n",
       "      <th>0</th>\n",
       "      <td>1</td>\n",
       "      <td>-39.0</td>\n",
       "      <td>0.01</td>\n",
       "    </tr>\n",
       "    <tr>\n",
       "      <th>0</th>\n",
       "      <th>1</th>\n",
       "      <th>0</th>\n",
       "      <th>1</th>\n",
       "      <th>0</th>\n",
       "      <th>1</th>\n",
       "      <td>1</td>\n",
       "      <td>-39.0</td>\n",
       "      <td>0.01</td>\n",
       "    </tr>\n",
       "  </tbody>\n",
       "</table>\n",
       "</div>"
      ],
      "text/plain": [
       "             num_occurrences  energy     p\n",
       "0 1 2 3 4 5                               \n",
       "1 0 0 0 1 0                2   -40.0  0.02\n",
       "  1 0 0 0 0                1   -40.0  0.01\n",
       "  0 0 0 1 1                1   -39.0  0.01\n",
       "      1 1 0                1   -39.0  0.01\n",
       "0 1 0 1 0 1                1   -39.0  0.01"
      ]
     },
     "execution_count": 19,
     "metadata": {},
     "output_type": "execute_result"
    }
   ],
   "source": [
    "dist = agg_res(df, n_nodes=6).sort_values(\"energy\")\n",
    "dist.head()"
   ]
  },
  {
   "cell_type": "code",
   "execution_count": 20,
   "metadata": {},
   "outputs": [
    {
     "data": {
      "image/png": "[encoded data removed]",
      "text/plain": [
       "<Figure size 1200x300 with 5 Axes>"
      ]
     },
     "metadata": {},
     "output_type": "display_data"
    }
   ],
   "source": [
    "n_cols = 5\n",
    "first_five = dist.head(n=n_cols)\n",
    "\n",
    "fig, axs = plt.subplots(ncols=n_cols, nrows=1, squeeze=False, figsize=(12, 3), dpi=100)\n",
    "\n",
    "for ind, res, ax in zip(first_five.index, first_five.to_dict(\"records\"), axs.flatten()):\n",
    "    color_nodes = set([i for i, v in enumerate(ind) if v == 1])\n",
    "    gt.get_plot_mpl(graph, color_nodes=color_nodes, ax=ax)\n",
    "    p, e = res[\"p\"], res[\"energy\"]\n",
    "    ax.set_title(f\"p={int(p*100):d}%, e={int(e)}\")\n",
    "\n",
    "fig.suptitle(f\"D-Wave solutions sorted by energy; p_max = {dist.p.max()}, N=100\", y=1.1)\n",
    "\n",
    "plt.subplots_adjust(wspace=0.1)\n",
    "plt.show()"
   ]
  },
  {
   "cell_type": "raw",
   "metadata": {},
   "source": [
    "fig.savefig(file_name.replace(\"csv\", \"pdf\"), bbox_inches=\"tight\")"
   ]
  },
  {
   "cell_type": "markdown",
   "metadata": {},
   "source": [
    "## Presentation graph"
   ]
  },
  {
   "cell_type": "code",
   "execution_count": 21,
   "metadata": {},
   "outputs": [
    {
     "data": {
      "image/png": "[encoded data removed]",
      "text/plain": [
       "<Figure size 432x288 with 1 Axes>"
      ]
     },
     "metadata": {},
     "output_type": "display_data"
    }
   ],
   "source": [
    "graph = {(0, 1), (1, 2), (1, 3), (2, 4), (3, 4), (3, 5), (4, 6), (6, 5)}\n",
    "nodes = set([i for i, _ in graph] + [i for _, i in graph])\n",
    "n_nodes = len(nodes)\n",
    "\n",
    "gt.get_plot(graph)\n",
    "plt.show()"
   ]
  },
  {
   "cell_type": "code",
   "execution_count": 22,
   "metadata": {},
   "outputs": [],
   "source": [
    "qubo = get_mds_qubo(graph)"
   ]
  },
  {
   "cell_type": "raw",
   "metadata": {},
   "source": [
    "e, nodes = classical_search(qubo)\n",
    "print(\"Brute force search classical minimal energy\", e)\n",
    "gt.get_plot(graph, nodes[0])\n",
    "plt.show()"
   ]
  },
  {
   "cell_type": "code",
   "execution_count": 23,
   "metadata": {},
   "outputs": [
    {
     "name": "stdout",
     "output_type": "stream",
     "text": [
      "40.0\n"
     ]
    }
   ],
   "source": [
    "q_min = np.array(list(qubo.values())).min()\n",
    "fact = np.abs(q_min) / 0.8\n",
    "print(fact)\n",
    "qubo_rescaled = qubo / fact"
   ]
  },
  {
   "cell_type": "code",
   "execution_count": 24,
   "metadata": {},
   "outputs": [
    {
     "data": {
      "image/png": "[encoded data removed]",
      "text/plain": [
       "<Figure size 1200x1200 with 1 Axes>"
      ]
     },
     "metadata": {},
     "output_type": "display_data"
    }
   ],
   "source": [
    "fig, ax = plt.subplots(figsize=(4, 4), dpi=300)\n",
    "\n",
    "m = qubo_rescaled.todense()\n",
    "vmax = np.abs(m).max()\n",
    "\n",
    "sns.heatmap(\n",
    "    m,\n",
    "    annot=True,\n",
    "    ax=ax,\n",
    "    annot_kws={\"fontsize\": 4},\n",
    "    cmap=\"RdBu_r\",\n",
    "    vmin=-vmax,\n",
    "    vmax=vmax,\n",
    "    mask=m == 0,\n",
    "    cbar=False,\n",
    ")\n",
    "ax.set_yticks([])\n",
    "ax.set_xticks([])\n",
    "ax.set_xlim(0, 20)\n",
    "ax.set_ylim(20, 0)\n",
    "\n",
    "plt.show()"
   ]
  },
  {
   "cell_type": "raw",
   "metadata": {},
   "source": [
    "fig.savefig(\"rescaled-qubo.pdf\")"
   ]
  },
  {
   "cell_type": "code",
   "execution_count": 25,
   "metadata": {},
   "outputs": [
    {
     "name": "stdout",
     "output_type": "stream",
     "text": [
      "Reading data\n"
     ]
    },
    {
     "data": {
      "text/html": [
       "<div>\n",
       "<style scoped>\n",
       "    .dataframe tbody tr th:only-of-type {\n",
       "        vertical-align: middle;\n",
       "    }\n",
       "\n",
       "    .dataframe tbody tr th {\n",
       "        vertical-align: top;\n",
       "    }\n",
       "\n",
       "    .dataframe thead th {\n",
       "        text-align: right;\n",
       "    }\n",
       "</style>\n",
       "<table border=\"1\" class=\"dataframe\">\n",
       "  <thead>\n",
       "    <tr style=\"text-align: right;\">\n",
       "      <th></th>\n",
       "      <th>0</th>\n",
       "      <th>1</th>\n",
       "      <th>2</th>\n",
       "      <th>3</th>\n",
       "      <th>4</th>\n",
       "      <th>5</th>\n",
       "      <th>6</th>\n",
       "      <th>7</th>\n",
       "      <th>8</th>\n",
       "      <th>9</th>\n",
       "      <th>...</th>\n",
       "      <th>13</th>\n",
       "      <th>14</th>\n",
       "      <th>15</th>\n",
       "      <th>16</th>\n",
       "      <th>17</th>\n",
       "      <th>18</th>\n",
       "      <th>19</th>\n",
       "      <th>chain_break_fraction</th>\n",
       "      <th>energy</th>\n",
       "      <th>num_occurrences</th>\n",
       "    </tr>\n",
       "  </thead>\n",
       "  <tbody>\n",
       "    <tr>\n",
       "      <th>695</th>\n",
       "      <td>0</td>\n",
       "      <td>1</td>\n",
       "      <td>0</td>\n",
       "      <td>0</td>\n",
       "      <td>0</td>\n",
       "      <td>0</td>\n",
       "      <td>1</td>\n",
       "      <td>0</td>\n",
       "      <td>0</td>\n",
       "      <td>0</td>\n",
       "      <td>...</td>\n",
       "      <td>0</td>\n",
       "      <td>0</td>\n",
       "      <td>0</td>\n",
       "      <td>0</td>\n",
       "      <td>0</td>\n",
       "      <td>0</td>\n",
       "      <td>0</td>\n",
       "      <td>0.0</td>\n",
       "      <td>-54.0</td>\n",
       "      <td>1</td>\n",
       "    </tr>\n",
       "    <tr>\n",
       "      <th>226</th>\n",
       "      <td>0</td>\n",
       "      <td>1</td>\n",
       "      <td>0</td>\n",
       "      <td>0</td>\n",
       "      <td>0</td>\n",
       "      <td>0</td>\n",
       "      <td>1</td>\n",
       "      <td>0</td>\n",
       "      <td>0</td>\n",
       "      <td>0</td>\n",
       "      <td>...</td>\n",
       "      <td>0</td>\n",
       "      <td>0</td>\n",
       "      <td>0</td>\n",
       "      <td>0</td>\n",
       "      <td>0</td>\n",
       "      <td>0</td>\n",
       "      <td>0</td>\n",
       "      <td>0.0</td>\n",
       "      <td>-54.0</td>\n",
       "      <td>1</td>\n",
       "    </tr>\n",
       "    <tr>\n",
       "      <th>838</th>\n",
       "      <td>0</td>\n",
       "      <td>1</td>\n",
       "      <td>0</td>\n",
       "      <td>0</td>\n",
       "      <td>0</td>\n",
       "      <td>0</td>\n",
       "      <td>1</td>\n",
       "      <td>0</td>\n",
       "      <td>0</td>\n",
       "      <td>0</td>\n",
       "      <td>...</td>\n",
       "      <td>0</td>\n",
       "      <td>0</td>\n",
       "      <td>0</td>\n",
       "      <td>0</td>\n",
       "      <td>0</td>\n",
       "      <td>0</td>\n",
       "      <td>0</td>\n",
       "      <td>0.0</td>\n",
       "      <td>-54.0</td>\n",
       "      <td>1</td>\n",
       "    </tr>\n",
       "    <tr>\n",
       "      <th>763</th>\n",
       "      <td>0</td>\n",
       "      <td>1</td>\n",
       "      <td>0</td>\n",
       "      <td>1</td>\n",
       "      <td>0</td>\n",
       "      <td>1</td>\n",
       "      <td>0</td>\n",
       "      <td>0</td>\n",
       "      <td>1</td>\n",
       "      <td>0</td>\n",
       "      <td>...</td>\n",
       "      <td>1</td>\n",
       "      <td>0</td>\n",
       "      <td>0</td>\n",
       "      <td>1</td>\n",
       "      <td>0</td>\n",
       "      <td>0</td>\n",
       "      <td>0</td>\n",
       "      <td>0.0</td>\n",
       "      <td>-53.0</td>\n",
       "      <td>1</td>\n",
       "    </tr>\n",
       "    <tr>\n",
       "      <th>705</th>\n",
       "      <td>0</td>\n",
       "      <td>1</td>\n",
       "      <td>0</td>\n",
       "      <td>1</td>\n",
       "      <td>0</td>\n",
       "      <td>0</td>\n",
       "      <td>1</td>\n",
       "      <td>0</td>\n",
       "      <td>1</td>\n",
       "      <td>0</td>\n",
       "      <td>...</td>\n",
       "      <td>0</td>\n",
       "      <td>1</td>\n",
       "      <td>0</td>\n",
       "      <td>1</td>\n",
       "      <td>0</td>\n",
       "      <td>0</td>\n",
       "      <td>0</td>\n",
       "      <td>0.0</td>\n",
       "      <td>-53.0</td>\n",
       "      <td>1</td>\n",
       "    </tr>\n",
       "  </tbody>\n",
       "</table>\n",
       "<p>5 rows × 23 columns</p>\n",
       "</div>"
      ],
      "text/plain": [
       "     0  1  2  3  4  5  6  7  8  9  ...  13  14  15  16  17  18  19  \\\n",
       "695  0  1  0  0  0  0  1  0  0  0  ...   0   0   0   0   0   0   0   \n",
       "226  0  1  0  0  0  0  1  0  0  0  ...   0   0   0   0   0   0   0   \n",
       "838  0  1  0  0  0  0  1  0  0  0  ...   0   0   0   0   0   0   0   \n",
       "763  0  1  0  1  0  1  0  0  1  0  ...   1   0   0   1   0   0   0   \n",
       "705  0  1  0  1  0  0  1  0  1  0  ...   0   1   0   1   0   0   0   \n",
       "\n",
       "     chain_break_fraction  energy  num_occurrences  \n",
       "695                   0.0   -54.0                1  \n",
       "226                   0.0   -54.0                1  \n",
       "838                   0.0   -54.0                1  \n",
       "763                   0.0   -53.0                1  \n",
       "705                   0.0   -53.0                1  \n",
       "\n",
       "[5 rows x 23 columns]"
      ]
     },
     "execution_count": 25,
     "metadata": {},
     "output_type": "execute_result"
    }
   ],
   "source": [
    "file_name = \"graph_res_pres-1000.csv\"\n",
    "quobo_dict = {\n",
    "    key: val for key, val in zip(qubo_rescaled.keys(), qubo_rescaled.values())\n",
    "}\n",
    "\n",
    "if os.path.exists(file_name):\n",
    "    print(\"Reading data\")\n",
    "    raw = pd.read_csv(file_name)\n",
    "else:\n",
    "    print(\"Submitting\")\n",
    "    result = embed.sample_qubo(quobo_dict, **dwave_config)\n",
    "    raw = result.to_pandas_dataframe()\n",
    "    raw.to_csv(path_or_buf=file_name, index=False)\n",
    "\n",
    "df = raw.sort_values(\"energy\", ascending=True)\n",
    "df[\"energy\"] *= fact\n",
    "df.head()"
   ]
  },
  {
   "cell_type": "code",
   "execution_count": null,
   "metadata": {},
   "outputs": [],
   "source": [
    "dist = agg_res(df, n_nodes=n_nodes).sort_values(\"energy\")\n",
    "dist.head()"
   ]
  },
  {
   "cell_type": "code",
   "execution_count": null,
   "metadata": {},
   "outputs": [],
   "source": [
    "df.shape[0]"
   ]
  },
  {
   "cell_type": "code",
   "execution_count": null,
   "metadata": {},
   "outputs": [],
   "source": [
    "n_cols = 5\n",
    "first_five = dist.head(n=n_cols)\n",
    "\n",
    "fig, axs = plt.subplots(ncols=n_cols, nrows=1, squeeze=False, figsize=(12, 3), dpi=100)\n",
    "\n",
    "for ind, res, ax in zip(first_five.index, first_five.to_dict(\"records\"), axs.flatten()):\n",
    "    color_nodes = set([i for i, v in enumerate(ind) if v == 1])\n",
    "    gt.get_plot_mpl(graph, color_nodes=color_nodes, ax=ax)\n",
    "    p, e, n = res[\"p\"], res[\"energy\"], res[\"num_occurrences\"]\n",
    "    ax.set_title(f\"n={n}, g={len(color_nodes)}\")\n",
    "\n",
    "fig.suptitle(\n",
    "    f\"D-Wave solutions sorted by energy;\"\n",
    "    f\" N={df.shape[0]},\"\n",
    "    f\" n_max = {dist.num_occurrences.max()},\"\n",
    "    f\" e_min={int(df.energy.min())}\",\n",
    "    y=1.1,\n",
    ")\n",
    "\n",
    "plt.subplots_adjust(wspace=0.1)\n",
    "plt.show()"
   ]
  },
  {
   "cell_type": "raw",
   "metadata": {},
   "source": [
    "fig.savefig(file_name.replace(\"csv\", \"pdf\"), bbox_inches=\"tight\")"
   ]
  },
  {
   "cell_type": "code",
   "execution_count": null,
   "metadata": {},
   "outputs": [],
   "source": []
  }
 ],
 "metadata": {
  "kernelspec": {
   "display_name": "Python 3",
   "language": "python",
   "name": "python3"
  },
  "language_info": {
   "codemirror_mode": {
    "name": "ipython",
    "version": 3
   },
   "file_extension": ".py",
   "mimetype": "text/x-python",
   "name": "python",
   "nbconvert_exporter": "python",
   "pygments_lexer": "ipython3",
   "version": "3.8.3"
  }
 },
 "nbformat": 4,
 "nbformat_minor": 2
}
